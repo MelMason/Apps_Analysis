{
 "cells": [
  {
   "cell_type": "markdown",
   "metadata": {},
   "source": [
    "#### Introduction\n",
    "We only build apps that are free to download and install, and our main source of revenue consists of in-app ads. This means our revenue for any given app is mostly influenced by the number of users who use our app — the more users that see and engage with the ads, the better. \n",
    "\n",
    "#### Anticipated Outcome\n",
    "Our goal is to analyze data to help our developers understand what type of apps are likely to attract more users."
   ]
  },
  {
   "cell_type": "code",
   "execution_count": 14,
   "metadata": {},
   "outputs": [],
   "source": [
    "# Open csv files and save each as a list of lists\n",
    "\n",
    "def open_dataset(file_name):\n",
    "    \n",
    "    opened_file = open(file_name)    \n",
    "    from csv import reader\n",
    "    read_file = reader(opened_file)\n",
    "    data = list(read_file)\n",
    "    return data\n",
    "\n",
    "apple_data=open_dataset('resources/AppleStore.csv')\n",
    "google_data=open_dataset('resources/googleplaystore.csv')"
   ]
  },
  {
   "cell_type": "markdown",
   "metadata": {},
   "source": [
    "For additional documention information, use the following links:\n",
    "1. Google dataset: [link](https://www.kaggle.com/lava18/google-play-store-apps)\n",
    "2. Apple dataset: [link](https://www.kaggle.com/ramamet4/app-store-apple-data-set-10k-apps)"
   ]
  },
  {
   "cell_type": "code",
   "execution_count": 15,
   "metadata": {},
   "outputs": [],
   "source": [
    "# function slices dataset at designated indices to allow for exploration\n",
    "\n",
    "def explore_data(dataset, start, end, rows_and_columns=False):\n",
    "    dataset_slice = dataset[start:end]    \n",
    "    for row in dataset_slice:\n",
    "        print(row)\n",
    "        print('\\n') # adds a new (empty) line after each row\n",
    "\n",
    "    if rows_and_columns:\n",
    "        print('Number of rows:', len(dataset))\n",
    "        print('Number of columns:', len(dataset[0]))"
   ]
  },
  {
   "cell_type": "code",
   "execution_count": 16,
   "metadata": {},
   "outputs": [
    {
     "name": "stdout",
     "output_type": "stream",
     "text": [
      "['284882215', 'Facebook', '389879808', 'USD', '0', '2974676', '212', '3.5', '3.5', '95', '4+', 'Social Networking', '37', '1', '29', '1']\n",
      "\n",
      "\n",
      "['389801252', 'Instagram', '113954816', 'USD', '0', '2161558', '1289', '4.5', '4', '10.23', '12+', 'Photo & Video', '37', '0', '29', '1']\n",
      "\n",
      "\n",
      "['529479190', 'Clash of Clans', '116476928', 'USD', '0', '2130805', '579', '4.5', '4.5', '9.24.12', '9+', 'Games', '38', '5', '18', '1']\n",
      "\n",
      "\n",
      "['420009108', 'Temple Run', '65921024', 'USD', '0', '1724546', '3842', '4.5', '4', '1.6.2', '9+', 'Games', '40', '5', '1', '1']\n",
      "\n",
      "\n",
      "['284035177', 'Pandora - Music & Radio', '130242560', 'USD', '0', '1126879', '3594', '4', '4.5', '8.4.1', '12+', 'Music', '37', '4', '1', '1']\n",
      "\n",
      "\n",
      "Number of rows: 7198\n",
      "Number of columns: 16\n",
      "Header\n",
      "['id', 'track_name', 'size_bytes', 'currency', 'price', 'rating_count_tot', 'rating_count_ver', 'user_rating', 'user_rating_ver', 'ver', 'cont_rating', 'prime_genre', 'sup_devices.num', 'ipadSc_urls.num', 'lang.num', 'vpp_lic']\n",
      "None\n"
     ]
    }
   ],
   "source": [
    "# Print header and first few rows for Apple dataset, including number of rows and columns\n",
    "apple_header=apple_data[0]\n",
    "explore_apple=explore_data(apple_data,1, 6, True)       \n",
    "\n",
    "print(\"Header\")\n",
    "print(apple_header)\n",
    "print(explore_apple)"
   ]
  },
  {
   "cell_type": "code",
   "execution_count": 20,
   "metadata": {},
   "outputs": [
    {
     "name": "stdout",
     "output_type": "stream",
     "text": [
      "['Photo Editor & Candy Camera & Grid & ScrapBook', 'ART_AND_DESIGN', '4.1', '159', '19M', '10,000+', 'Free', '0', 'Everyone', 'Art & Design', '7-Jan-18', '1.0.0', '4.0.3 and up']\n",
      "\n",
      "\n",
      "['Coloring book moana', 'ART_AND_DESIGN', '3.9', '967', '14M', '500,000+', 'Free', '0', 'Everyone', 'Art & Design;Pretend Play', '15-Jan-18', '2.0.0', '4.0.3 and up']\n",
      "\n",
      "\n",
      "['U Launcher Lite – FREE Live Cool Themes, Hide Apps', 'ART_AND_DESIGN', '4.7', '87510', '8.7M', '5,000,000+', 'Free', '0', 'Everyone', 'Art & Design', '1-Aug-18', '1.2.4', '4.0.3 and up']\n",
      "\n",
      "\n",
      "['Sketch - Draw & Paint', 'ART_AND_DESIGN', '4.5', '215644', '25M', '50,000,000+', 'Free', '0', 'Teen', 'Art & Design', '8-Jun-18', 'Varies with device', '4.2 and up']\n",
      "\n",
      "\n",
      "['Pixel Draw - Number Art Coloring Book', 'ART_AND_DESIGN', '4.3', '967', '2.8M', '100,000+', 'Free', '0', 'Everyone', 'Art & Design;Creativity', '20-Jun-18', '1.1', '4.4 and up']\n",
      "\n",
      "\n",
      "Number of rows: 10841\n",
      "Number of columns: 13\n",
      "Header\n",
      "['App', 'Category', 'Rating', 'Reviews', 'Size', 'Installs', 'Type', 'Price', 'Content Rating', 'Genres', 'Last Updated', 'Current Ver', 'Android Ver']\n",
      "None\n"
     ]
    }
   ],
   "source": [
    "# Print header and first few rows for Google dataset, including number of rows and columns\n",
    "\n",
    "google_header=google_data[0]\n",
    "explore_google=explore_data(google_data,1, 3, True)       \n",
    "\n",
    "print(\"Header\")\n",
    "print(google_header)\n",
    "print(explore_google)"
   ]
  },
  {
   "cell_type": "markdown",
   "metadata": {},
   "source": [
    "## Deleting Wrong Data\n",
    "\n",
    "The Google Play data set has a dedicated discussion section, and we can see that one of the discussions outlines an error for row 10472. Let's print this row and compare it against the header and another row that is correct."
   ]
  },
  {
   "cell_type": "code",
   "execution_count": 21,
   "metadata": {},
   "outputs": [
    {
     "name": "stdout",
     "output_type": "stream",
     "text": [
      "['osmino Wi-Fi: free WiFi', 'TOOLS', '4.2', '134203', '4.1M', '10,000,000+', 'Free', '0', 'Everyone', 'Tools', '7-Aug-18', '6.06.14', '4.4 and up']\n",
      "\n",
      "\n",
      "['App', 'Category', 'Rating', 'Reviews', 'Size', 'Installs', 'Type', 'Price', 'Content Rating', 'Genres', 'Last Updated', 'Current Ver', 'Android Ver']\n",
      "\n",
      "\n",
      "[['Photo Editor & Candy Camera & Grid & ScrapBook', 'ART_AND_DESIGN', '4.1', '159', '19M', '10,000+', 'Free', '0', 'Everyone', 'Art & Design', '7-Jan-18', '1.0.0', '4.0.3 and up'], ['Coloring book moana', 'ART_AND_DESIGN', '3.9', '967', '14M', '500,000+', 'Free', '0', 'Everyone', 'Art & Design;Pretend Play', '15-Jan-18', '2.0.0', '4.0.3 and up']]\n"
     ]
    }
   ],
   "source": [
    "# Check for missing rating from google_data\n",
    "print(google_data[10473])\n",
    "print('\\n')\n",
    "print(google_header)\n",
    "print('\\n')\n",
    "print(google_data[1:3])\n",
    "\n",
    "# delete row with missing data (only run this code once, or it will continue to delete row)\n",
    "del google_data[10473]"
   ]
  },
  {
   "cell_type": "code",
   "execution_count": 22,
   "metadata": {},
   "outputs": [
    {
     "data": {
      "text/plain": [
       "10840"
      ]
     },
     "execution_count": 22,
     "metadata": {},
     "output_type": "execute_result"
    }
   ],
   "source": [
    "# Check that row was deleted\n",
    "len(google_data)"
   ]
  },
  {
   "cell_type": "markdown",
   "metadata": {},
   "source": [
    "## Romoving Duplicate Entries\n",
    "### Part One\n",
    "#### Duplicate entries should not be included in analysis. The following steps were taken to identify duplicate entries:\n",
    "1. Loop through each dataset\n",
    "2. Check for duplicate app names\n",
    "3. Check to see if the app name has been added to the unique apps list. If not, append the app name. If it has been added, add the app name to a duplicate apps list.\n",
    "4. Check the length of each list, and display several examples of duplicate app names."
   ]
  },
  {
   "cell_type": "code",
   "execution_count": 23,
   "metadata": {},
   "outputs": [
    {
     "name": "stdout",
     "output_type": "stream",
     "text": [
      "unique apps: 7196\n",
      "duplicate apps:  2\n",
      "Names of duplicates: ['Mannequin Challenge', 'VR Roller Coaster']\n"
     ]
    }
   ],
   "source": [
    "# Check for duplicate apps in Apple data\n",
    "ios_unique_apps = [] \n",
    "ios_duplicate_apps = [] \n",
    "\n",
    "for app in apple_data: \n",
    "    app_name = app[1] \n",
    "\n",
    "    if app_name not in ios_unique_apps:\n",
    "        ios_unique_apps.append(app_name)\n",
    "    else:\n",
    "        ios_duplicate_apps.append(app_name)\n",
    "        \n",
    "print('unique apps:', len(ios_unique_apps))\n",
    "print('duplicate apps: ', len(ios_duplicate_apps))\n",
    "print('Names of duplicates:', ios_duplicate_apps)"
   ]
  },
  {
   "cell_type": "code",
   "execution_count": 24,
   "metadata": {},
   "outputs": [
    {
     "name": "stdout",
     "output_type": "stream",
     "text": [
      "Unique apps: 9659\n",
      "Duplicate apps:  1180\n",
      "Examples of duplicates: ['Quick PDF Scanner + OCR FREE', 'Box', 'Google My Business', 'ZOOM Cloud Meetings', 'join.me - Simple Meetings', 'Box', 'Zenefits', 'Google Ads', 'Google My Business', 'Slack']\n"
     ]
    }
   ],
   "source": [
    "# Check for duplicate apps in Google data\n",
    "google_unique_apps = [] \n",
    "google_duplicate_apps = [] \n",
    "\n",
    "for app in google_data: \n",
    "    app_name = app[0] \n",
    "\n",
    "    if app_name not in google_unique_apps:\n",
    "        google_unique_apps.append(app_name)\n",
    "    else:\n",
    "        google_duplicate_apps.append(app_name)\n",
    "        \n",
    "print('Unique apps:',len(google_unique_apps)-1) \n",
    "print('Duplicate apps: ', len(google_duplicate_apps))\n",
    "print('Examples of duplicates:', google_duplicate_apps[:10])"
   ]
  },
  {
   "cell_type": "markdown",
   "metadata": {},
   "source": [
    "### Part Two\n",
    "To choose which duplicates to remove, we will select the app with the highest number of reviews. A greater number of reviews indicates that this is the most recently updated entry of the app. To complete this process, we will:\n",
    "1. Create a dictionary, where each dictionary key is a unique app name and the corresponding dictionary value is the highest number of reviews of that app.\n",
    "2. Use the information stored in the and create a new data set, which will have only one entry per app."
   ]
  },
  {
   "cell_type": "code",
   "execution_count": 65,
   "metadata": {},
   "outputs": [
    {
     "name": "stdout",
     "output_type": "stream",
     "text": [
      "Android length:  9659\n",
      "iOS length:  7195\n"
     ]
    }
   ],
   "source": [
    "# create a dictionary for Google data with unique app values\n",
    "google_reviews_max = {}\n",
    "ios_reviews_max = {}\n",
    "\n",
    "for row in google_data[1:]:\n",
    "    name= row[0]\n",
    "    n_reviews = float(row[3])\n",
    "    if name in google_reviews_max and google_reviews_max[name] < n_reviews:\n",
    "        google_reviews_max.update({name:n_reviews})\n",
    "    if name not in google_reviews_max:\n",
    "        google_reviews_max[name] = n_reviews\n",
    "        \n",
    "for row in apple_data[1:]:\n",
    "    name= row[1]\n",
    "    n_reviews = float(row[5])\n",
    "    if name in ios_reviews_max and ios_reviews_max[name] < n_reviews:\n",
    "        ios_reviews_max.update({name:n_reviews})\n",
    "    if name not in ios_reviews_max:\n",
    "        ios_reviews_max[name] = n_reviews        \n",
    "        \n",
    "print('Android length: ', len(google_reviews_max))\n",
    "print('iOS length: ', len(ios_reviews_max))\n",
    "# print(google_reviews_max)\n"
   ]
  },
  {
   "cell_type": "markdown",
   "metadata": {},
   "source": [
    "Now, let's use the reviews_max dictionary to remove the duplicates. For the duplicate cases, we'll only keep the entries with the highest number of reviews. In the code cell below:\n",
    "\n",
    "- We start by initializing two empty lists, android_clean and already_added.\n",
    "- We loop through the android data set, and for every iteration:\n",
    "- We isolate the name of the app and the number of reviews.\n",
    "- We add the current row (row) to the android_clean list, and the app name (name) to the already_added list if:\n",
    "- The number of reviews of the current app matches the number of reviews of that app as described in the reviews_max dictionary; and\n",
    "- The name of the app is not already in the already_added list. We need to add this supplementary condition to account for those cases where the highest number of reviews of a duplicate app is the same for more than one entry (for example, the Box app has three entries, and the number of reviews is the same). If we just check for reviews_max[name] == n_reviews, we'll still end up with duplicate entries for some apps."
   ]
  },
  {
   "cell_type": "code",
   "execution_count": 27,
   "metadata": {},
   "outputs": [
    {
     "name": "stdout",
     "output_type": "stream",
     "text": [
      "['Photo Editor & Candy Camera & Grid & ScrapBook', 'ART_AND_DESIGN', '4.1', '159', '19M', '10,000+', 'Free', '0', 'Everyone', 'Art & Design', '7-Jan-18', '1.0.0', '4.0.3 and up']\n",
      "\n",
      "\n",
      "['U Launcher Lite – FREE Live Cool Themes, Hide Apps', 'ART_AND_DESIGN', '4.7', '87510', '8.7M', '5,000,000+', 'Free', '0', 'Everyone', 'Art & Design', '1-Aug-18', '1.2.4', '4.0.3 and up']\n",
      "\n",
      "\n",
      "['Sketch - Draw & Paint', 'ART_AND_DESIGN', '4.5', '215644', '25M', '50,000,000+', 'Free', '0', 'Teen', 'Art & Design', '8-Jun-18', 'Varies with device', '4.2 and up']\n",
      "\n",
      "\n",
      "Number of rows: 9659\n",
      "Number of columns: 13\n"
     ]
    }
   ],
   "source": [
    "#create new dataset\n",
    "android_clean=[]\n",
    "\n",
    "# store app names\n",
    "already_added=[]\n",
    "\n",
    "for row in google_data[1:]:\n",
    "    name = row[0]\n",
    "    n_reviews=float(row[3])    \n",
    "    if (n_reviews == google_reviews_max[name]) and (name not in already_added):\n",
    "        # Append the entire row to the android_clean list \n",
    "        android_clean.append(row)\n",
    "        # Append the name of the app name to the already_added list \n",
    "        already_added.append(name)\n",
    "        \n",
    "#Check to make sure that the # of rows in the list is correct\n",
    "explore_data(android_clean, 0, 3, True)"
   ]
  },
  {
   "cell_type": "code",
   "execution_count": 66,
   "metadata": {},
   "outputs": [
    {
     "name": "stdout",
     "output_type": "stream",
     "text": [
      "['284882215', 'Facebook', '389879808', 'USD', '0', '2974676', '212', '3.5', '3.5', '95', '4+', 'Social Networking', '37', '1', '29', '1']\n",
      "\n",
      "\n",
      "['389801252', 'Instagram', '113954816', 'USD', '0', '2161558', '1289', '4.5', '4', '10.23', '12+', 'Photo & Video', '37', '0', '29', '1']\n",
      "\n",
      "\n",
      "['529479190', 'Clash of Clans', '116476928', 'USD', '0', '2130805', '579', '4.5', '4.5', '9.24.12', '9+', 'Games', '38', '5', '18', '1']\n",
      "\n",
      "\n",
      "Number of rows: 7195\n",
      "Number of columns: 16\n"
     ]
    }
   ],
   "source": [
    "#create new dataset\n",
    "ios_clean=[]\n",
    "\n",
    "# store app names\n",
    "ios_already_added=[]\n",
    "\n",
    "for row in apple_data[1:]:\n",
    "    name = row[1]\n",
    "    n_reviews=float(row[5])    \n",
    "    if (n_reviews == ios_reviews_max[name]) and (name not in ios_already_added):\n",
    "        # Append the entire row to the android_clean list \n",
    "        ios_clean.append(row)\n",
    "        # Append the name of the app name to the already_added list \n",
    "        ios_already_added.append(name)\n",
    "        \n",
    "#Check to make sure that the # of rows in the list is correct\n",
    "explore_data(ios_clean, 0, 3, True)"
   ]
  },
  {
   "cell_type": "markdown",
   "metadata": {},
   "source": [
    "## Removing Non-English Apps\n",
    "### Part One"
   ]
  },
  {
   "cell_type": "code",
   "execution_count": 35,
   "metadata": {},
   "outputs": [
    {
     "name": "stdout",
     "output_type": "stream",
     "text": [
      "1:  True\n",
      "2:  False\n",
      "3:  False\n",
      "4:  False\n"
     ]
    }
   ],
   "source": [
    "# Create a function to iterate over and input string. \n",
    "# For each iteration check whether the number associated with the character is greater than 127(English ASCII characters). \n",
    "# If all characters are <127, return true, otherwise, return False\n",
    "def apps(name):\n",
    "    for character in name:\n",
    "        if ord(character) > 127:\n",
    "            return False \n",
    "    return True\n",
    "\n",
    "# Check results with a few examples\n",
    "print(\"1: \", apps('Instachat'))\n",
    "print(\"2: \", apps('Docs To Go™ Free Office Suite'))\n",
    "print(\"3: \", apps('Instachat 😜'))\n",
    "print(\"4: \", apps('爱奇艺PPS -《欢乐颂2》电视剧热播'))"
   ]
  },
  {
   "cell_type": "code",
   "execution_count": 57,
   "metadata": {},
   "outputs": [
    {
     "name": "stdout",
     "output_type": "stream",
     "text": [
      "1:  True\n",
      "2:  True\n",
      "3:  True\n",
      "4:  False\n"
     ]
    }
   ],
   "source": [
    "#redefine function to include up to 3 non-ASCII characters\n",
    "def ascii(name):\n",
    "    non_ascii= 0\n",
    "    for character in name:\n",
    "        if ord(character) > 127:\n",
    "            non_ascii +=1\n",
    "    if non_ascii>3:\n",
    "        return False \n",
    "    else:\n",
    "        return True\n",
    "print(\"1: \", ascii('Instachat'))\n",
    "print(\"2: \", ascii('Docs To Go™ Free Office Suite'))\n",
    "print(\"3: \", ascii('Instachat 😜'))\n",
    "print(\"4: \", ascii('爱奇艺PPS -《欢乐颂2》电视剧热播'))"
   ]
  },
  {
   "cell_type": "code",
   "execution_count": 86,
   "metadata": {},
   "outputs": [
    {
     "name": "stdout",
     "output_type": "stream",
     "text": [
      "['Photo Editor & Candy Camera & Grid & ScrapBook', 'ART_AND_DESIGN', '4.1', '159', '19M', '10,000+', 'Free', '0', 'Everyone', 'Art & Design', '7-Jan-18', '1.0.0', '4.0.3 and up']\n",
      "\n",
      "\n",
      "['U Launcher Lite – FREE Live Cool Themes, Hide Apps', 'ART_AND_DESIGN', '4.7', '87510', '8.7M', '5,000,000+', 'Free', '0', 'Everyone', 'Art & Design', '1-Aug-18', '1.2.4', '4.0.3 and up']\n",
      "\n",
      "\n",
      "['Sketch - Draw & Paint', 'ART_AND_DESIGN', '4.5', '215644', '25M', '50,000,000+', 'Free', '0', 'Teen', 'Art & Design', '8-Jun-18', 'Varies with device', '4.2 and up']\n",
      "\n",
      "\n",
      "Number of rows: 9614\n",
      "Number of columns: 13\n",
      "None\n",
      "['284882215', 'Facebook', '389879808', 'USD', '0', '2974676', '212', '3.5', '3.5', '95', '4+', 'Social Networking', '37', '1', '29', '1']\n",
      "\n",
      "\n",
      "['389801252', 'Instagram', '113954816', 'USD', '0', '2161558', '1289', '4.5', '4', '10.23', '12+', 'Photo & Video', '37', '0', '29', '1']\n",
      "\n",
      "\n",
      "['529479190', 'Clash of Clans', '116476928', 'USD', '0', '2130805', '579', '4.5', '4.5', '9.24.12', '9+', 'Games', '38', '5', '18', '1']\n",
      "\n",
      "\n",
      "Number of rows: 6181\n",
      "Number of columns: 16\n",
      "None\n"
     ]
    }
   ],
   "source": [
    "# Collect English apps in new list for each dataset\n",
    "\n",
    "android_english=[]\n",
    "\n",
    "for app in android_clean:\n",
    "    name= app[0]\n",
    "    if ascii(name):\n",
    "        android_english.append(app)\n",
    "        \n",
    "ios_english=[]\n",
    "\n",
    "for app in ios_clean:\n",
    "    name= app[1]\n",
    "    if ascii(name):\n",
    "        ios_english.append(app)        \n",
    "\n",
    "print(explore_data(android_english, 0, 3, True))\n",
    "print(explore_data(ios_english, 0, 3, True))\n"
   ]
  },
  {
   "cell_type": "markdown",
   "metadata": {},
   "source": [
    "## Separating Free/Paid Apps"
   ]
  },
  {
   "cell_type": "code",
   "execution_count": null,
   "metadata": {},
   "outputs": [],
   "source": [
    "# Remove $ for \"Price\" column\n",
    "android_english = [[item.replace('$', '') for item in lst] for lst in android_english]\n",
    "ios_english = [[item.replace('$', '') for item in lst] for lst in ios_english]\n",
    "\n",
    "# Check that \"$\" was removed for android\n",
    "# for app in android_english:\n",
    "#     name=app[6]\n",
    "#     if name == 'Paid':\n",
    "#         print(app)\n",
    " \n",
    "# Check that \"$\" was removed for ios\n",
    "for app in ios_english:\n",
    "    name=float(app[4])\n",
    "    if name > 0:\n",
    "        print(app)       "
   ]
  },
  {
   "cell_type": "code",
   "execution_count": 134,
   "metadata": {},
   "outputs": [
    {
     "name": "stdout",
     "output_type": "stream",
     "text": [
      "8864\n",
      "3220\n"
     ]
    }
   ],
   "source": [
    "# Create new list of free apps\n",
    "android_free = []\n",
    "ios_free = []\n",
    "\n",
    "for column in android_english:\n",
    "    cost = float(column[7])\n",
    "    if cost <= 0:\n",
    "        android_free.append(column)\n",
    "        \n",
    "for column in ios_english:\n",
    "    cost = float(column[4])\n",
    "    if cost <= 0:\n",
    "        ios_free.append(column)\n",
    "        \n",
    "print(len(android_free))\n",
    "print(len(ios_free))"
   ]
  },
  {
   "cell_type": "markdown",
   "metadata": {},
   "source": [
    "## Compare Android and iOS Apps"
   ]
  },
  {
   "cell_type": "code",
   "execution_count": 136,
   "metadata": {},
   "outputs": [
    {
     "name": "stdout",
     "output_type": "stream",
     "text": [
      "iOS Genre Counts\n",
      "{'Social Networking': 106, 'Photo & Video': 160, 'Games': 1872, 'Music': 66, 'Reference': 18, 'Health & Fitness': 65, 'Weather': 28, 'Utilities': 81, 'Travel': 40, 'Shopping': 84, 'News': 43, 'Navigation': 6, 'Lifestyle': 51, 'Entertainment': 254, 'Food & Drink': 26, 'Sports': 69, 'Book': 14, 'Finance': 36, 'Education': 118, 'Productivity': 56, 'Business': 17, 'Catalogs': 4, 'Medical': 6}\n",
      "\n",
      "\n",
      "Android Genre Counts\n",
      "{'Art & Design': 53, 'Art & Design;Creativity': 6, 'Auto & Vehicles': 82, 'Beauty': 53, 'Books & Reference': 190, 'Business': 407, 'Comics': 54, 'Comics;Creativity': 1, 'Communication': 287, 'Dating': 165, 'Education': 474, 'Education;Creativity': 4, 'Education;Education': 30, 'Education;Pretend Play': 5, 'Education;Brain Games': 3, 'Entertainment': 538, 'Entertainment;Brain Games': 7, 'Entertainment;Creativity': 3, 'Entertainment;Music & Video': 15, 'Events': 63, 'Finance': 328, 'Food & Drink': 110, 'Health & Fitness': 273, 'House & Home': 73, 'Libraries & Demo': 83, 'Lifestyle': 345, 'Lifestyle;Pretend Play': 1, 'Card': 40, 'Arcade': 164, 'Puzzle': 100, 'Racing': 88, 'Sports': 307, 'Casual': 156, 'Simulation': 181, 'Adventure': 60, 'Trivia': 37, 'Action': 275, 'Word': 23, 'Role Playing': 83, 'Strategy': 81, 'Board': 34, 'Music': 18, 'Action;Action & Adventure': 9, 'Casual;Brain Games': 12, 'Educational;Creativity': 3, 'Puzzle;Brain Games': 15, 'Educational;Education': 35, 'Casual;Pretend Play': 21, 'Educational;Brain Games': 6, 'Art & Design;Pretend Play': 1, 'Educational;Pretend Play': 8, 'Entertainment;Education': 1, 'Casual;Education': 2, 'Casual;Creativity': 6, 'Casual;Action & Adventure': 12, 'Music;Music & Video': 2, 'Arcade;Pretend Play': 1, 'Adventure;Action & Adventure': 3, 'Role Playing;Action & Adventure': 3, 'Simulation;Pretend Play': 2, 'Puzzle;Creativity': 2, 'Simulation;Action & Adventure': 7, 'Racing;Action & Adventure': 15, 'Sports;Action & Adventure': 2, 'Educational;Action & Adventure': 3, 'Arcade;Action & Adventure': 11, 'Entertainment;Action & Adventure': 3, 'Art & Design;Action & Adventure': 1, 'Puzzle;Action & Adventure': 3, 'Education;Action & Adventure': 3, 'Strategy;Action & Adventure': 1, 'Music & Audio;Music & Video': 1, 'Health & Fitness;Education': 1, 'Board;Action & Adventure': 2, 'Board;Brain Games': 7, 'Casual;Music & Video': 1, 'Education;Music & Video': 3, 'Role Playing;Pretend Play': 4, 'Entertainment;Pretend Play': 2, 'Medical': 313, 'Social': 236, 'Shopping': 199, 'Photography': 261, 'Travel & Local': 206, 'Travel & Local;Action & Adventure': 1, 'Tools': 749, 'Tools;Education': 1, 'Personalization': 294, 'Productivity': 345, 'Parenting': 44, 'Parenting;Music & Video': 6, 'Parenting;Education': 7, 'Parenting;Brain Games': 1, 'Weather': 71, 'Video Players & Editors': 157, 'Video Players & Editors;Music & Video': 2, 'Video Players & Editors;Creativity': 1, 'News & Magazines': 248, 'Maps & Navigation': 124, 'Health & Fitness;Action & Adventure': 1, 'Educational': 33, 'Casino': 38, 'Trivia;Education': 1, 'Lifestyle;Education': 1, 'Card;Action & Adventure': 1, 'Books & Reference;Education': 1, 'Simulation;Education': 1, 'Puzzle;Education': 1, 'Adventure;Education': 1, 'Role Playing;Brain Games': 1, 'Strategy;Education': 1, 'Racing;Pretend Play': 1, 'Communication;Creativity': 1, 'Strategy;Creativity': 1}\n"
     ]
    }
   ],
   "source": [
    "# Create a frequency table of genres for iOS \n",
    "\n",
    "ios_genre_counting={}\n",
    "android_genre_counting={}\n",
    "\n",
    "for row in ios_free:\n",
    "    genre=row[11]\n",
    "    if genre in ios_genre_counting:\n",
    "        ios_genre_counting[genre] += 1\n",
    "    else:\n",
    "        ios_genre_counting[genre]=1\n",
    "        \n",
    "for row in android_free:\n",
    "    genre=row[9]\n",
    "    if genre in android_genre_counting:\n",
    "        android_genre_counting[genre] += 1\n",
    "    else:\n",
    "        android_genre_counting[genre]=1\n",
    "        \n",
    "print('iOS Genre Counts')\n",
    "print(ios_genre_counting)\n",
    "print(\"\\n\")\n",
    "print('Android Genre Counts')\n",
    "print(android_genre_counting)"
   ]
  },
  {
   "cell_type": "code",
   "execution_count": 143,
   "metadata": {},
   "outputs": [
    {
     "name": "stdout",
     "output_type": "stream",
     "text": [
      "['WhatsApp Messenger', 'COMMUNICATION', '4.4', '69119316', 'Varies with device', '1,000,000,000+', 'Free', '0', 'Everyone', 'Communication', '3-Aug-18', 'Varies with device', 'Varies with device']\n",
      "['Messenger for SMS', 'COMMUNICATION', '4.3', '125257', '17M', '10,000,000+', 'Free', '0', 'Teen', 'Communication', '6-Jun-18', '1.8.9', '4.1 and up']\n",
      "['My Tele2', 'COMMUNICATION', '4.3', '158679', '8.8M', '5,000,000+', 'Free', '0', 'Everyone', 'Communication', '3-Aug-18', '2.4.1', '4.4 and up']\n",
      "['imo beta free calls and text', 'COMMUNICATION', '4.3', '659395', '11M', '100,000,000+', 'Free', '0', 'Everyone', 'Communication', '7-Jun-18', '9.8.000000010492', '4.0 and up']\n",
      "['Contacts', 'COMMUNICATION', '4.3', '66602', 'Varies with device', '50,000,000+', 'Free', '0', 'Everyone', 'Communication', '26-Jun-18', '2.8.4.201036949', '5.0 and up']\n",
      "['Call Free – Free Call', 'COMMUNICATION', '4.3', '30209', '15M', '5,000,000+', 'Free', '0', 'Everyone', 'Communication', '28-Jul-18', '1.3.4', '4.1 and up']\n",
      "['Web Browser & Explorer', 'COMMUNICATION', '4', '36901', '6.6M', '5,000,000+', 'Free', '0', 'Everyone', 'Communication', '4-Jul-18', '11.8.6', '4.0.3 - 7.1.1']\n",
      "['Browser 4G', 'COMMUNICATION', '4.3', '192948', '6.6M', '10,000,000+', 'Free', '0', 'Everyone', 'Communication', '19-Jun-18', '24.6.6', '4.0.3 - 7.1.1']\n",
      "['MegaFon Dashboard', 'COMMUNICATION', '3.7', '99559', 'Varies with device', '10,000,000+', 'Free', '0', 'Everyone', 'Communication', '30-Jul-18', 'Varies with device', 'Varies with device']\n",
      "['ZenUI Dialer & Contacts', 'COMMUNICATION', '4.5', '437674', 'Varies with device', '10,000,000+', 'Free', '0', 'Everyone', 'Communication', '1-Aug-18', 'Varies with device', 'Varies with device']\n",
      "['Cricket Visual Voicemail', 'COMMUNICATION', '3.9', '13698', '5.1M', '10,000,000+', 'Free', '0', 'Everyone', 'Communication', '2-Jul-18', '3.2.0.100171', '4.1 and up']\n",
      "['TracFone My Account', 'COMMUNICATION', '3.6', '20769', '18M', '1,000,000+', 'Free', '0', 'Everyone', 'Communication', '11-Jul-18', 'R6.0.3', '4.1 and up']\n",
      "['Xperia Link™', 'COMMUNICATION', '4.1', '45487', 'Varies with device', '10,000,000+', 'Free', '0', 'Everyone', 'Communication', '27-Oct-16', 'Varies with device', 'Varies with device']\n",
      "['TouchPal Keyboard - Fun Emoji & Android Keyboard', 'COMMUNICATION', '4.4', '615381', '37M', '10,000,000+', 'Free', '0', 'Mature 17+', 'Communication', '2-Aug-18', '6.7.9.1', '4.0.3 and up']\n",
      "['Skype Lite - Free Video Call & Chat', 'COMMUNICATION', '4.2', '33053', '22M', '5,000,000+', 'Free', '0', 'Everyone', 'Communication', '31-Jul-18', '1.60.0.31354-release', '4.0.3 and up']\n",
      "['My magenta', 'COMMUNICATION', '3.9', '42370', '37M', '1,000,000+', 'Free', '0', 'Everyone', 'Communication', '25-Jun-18', '7.5.1', '5.0 and up']\n",
      "['Android Messages', 'COMMUNICATION', '4.2', '781810', 'Varies with device', '100,000,000+', 'Free', '0', 'Everyone', 'Communication', '1-Aug-18', 'Varies with device', 'Varies with device']\n",
      "['Google Duo - High Quality Video Calls', 'COMMUNICATION', '4.6', '2083237', 'Varies with device', '500,000,000+', 'Free', '0', 'Everyone', 'Communication', '31-Jul-18', '37.1.206017801.DR37_RC14', '4.4 and up']\n",
      "['Seznam.cz', 'COMMUNICATION', '4.3', '46702', 'Varies with device', '1,000,000+', 'Free', '0', 'Everyone', 'Communication', '4-Jul-18', 'Varies with device', 'Varies with device']\n",
      "['Antillean Gold Telegram (original version)', 'COMMUNICATION', '4.4', '2939', '17M', '100,000+', 'Free', '0', 'Everyone', 'Communication', '16-Jul-18', '2.1', '4.1 and up']\n",
      "['AT&T Visual Voicemail', 'COMMUNICATION', '3.7', '13761', 'Varies with device', '10,000,000+', 'Free', '0', 'Everyone', 'Communication', '27-Jun-18', 'Varies with device', 'Varies with device']\n",
      "['GMX Mail', 'COMMUNICATION', '4.3', '258556', 'Varies with device', '10,000,000+', 'Free', '0', 'Everyone', 'Communication', '25-Jul-18', 'Varies with device', 'Varies with device']\n",
      "['Omlet Chat', 'COMMUNICATION', '3.9', '40751', '35M', '10,000,000+', 'Free', '0', 'Teen', 'Communication', '4-Nov-16', '2.2.7600', '4.0.3 and up']\n",
      "['My Vodacom SA', 'COMMUNICATION', '3.7', '25021', '61M', '5,000,000+', 'Free', '0', 'Everyone', 'Communication', '26-Jun-18', '9.9.0', '4.3 and up']\n",
      "['Microsoft Edge', 'COMMUNICATION', '4.3', '27187', '66M', '5,000,000+', 'Free', '0', 'Everyone', 'Communication', '28-Jul-18', '42.0.0.2059', '4.4 and up']\n",
      "['Messenger – Text and Video Chat for Free', 'COMMUNICATION', '4', '56646578', 'Varies with device', '1,000,000,000+', 'Free', '0', 'Everyone', 'Communication', '1-Aug-18', 'Varies with device', 'Varies with device']\n",
      "['imo free video calls and chat', 'COMMUNICATION', '4.3', '4785988', '11M', '500,000,000+', 'Free', '0', 'Everyone', 'Communication', '8-Jun-18', '9.8.000000010501', '4.0 and up']\n",
      "['Calls & Text by Mo+', 'COMMUNICATION', '4.2', '83239', '14M', '5,000,000+', 'Free', '0', 'Everyone', 'Communication', '19-Apr-18', '3.0.4', '4.0 and up']\n",
      "['free video calls and chat', 'COMMUNICATION', '4.2', '594728', 'Varies with device', '50,000,000+', 'Free', '0', 'Everyone', 'Communication', '19-Jul-18', '7.3(800241)', '4.4 and up']\n",
      "['Skype - free IM & video calls', 'COMMUNICATION', '4.1', '10484169', 'Varies with device', '1,000,000,000+', 'Free', '0', 'Everyone', 'Communication', '3-Aug-18', 'Varies with device', 'Varies with device']\n",
      "['Who', 'COMMUNICATION', '4.3', '2451093', 'Varies with device', '100,000,000+', 'Free', '0', 'Teen', 'Communication', '3-Aug-18', 'Varies with device', 'Varies with device']\n",
      "['GO SMS Pro - Messenger, Free Themes, Emoji', 'COMMUNICATION', '4.4', '2876500', '24M', '100,000,000+', 'Free', '0', 'Everyone', 'Communication', '1-Aug-18', '7.73', '4.0 and up']\n",
      "['Messaging+ SMS, MMS Free', 'COMMUNICATION', '4.1', '28238', '17M', '1,000,000+', 'Free', '0', 'Everyone', 'Communication', '2-Aug-18', '4.98', '2.3 and up']\n",
      "['chomp SMS', 'COMMUNICATION', '4.3', '335646', '8.3M', '10,000,000+', 'Free', '0', 'Everyone', 'Communication', '26-Jul-18', '7.21', '2.3 and up']\n",
      "['Glide - Video Chat Messenger', 'COMMUNICATION', '4.3', '350154', 'Varies with device', '10,000,000+', 'Free', '0', 'Everyone', 'Communication', '29-Jul-18', 'Varies with device', 'Varies with device']\n",
      "['Text SMS', 'COMMUNICATION', '4.5', '349384', '8.2M', '10,000,000+', 'Free', '0', 'Everyone', 'Communication', '24-Jul-18', '3.47', '4.0.3 and up']\n",
      "['Talkray - Free Calls & Texts', 'COMMUNICATION', '4.2', '244863', 'Varies with device', '10,000,000+', 'Free', '0', 'Everyone', 'Communication', '29-May-18', 'Varies with device', 'Varies with device']\n",
      "['LINE: Free Calls & Messages', 'COMMUNICATION', '4.2', '10790289', 'Varies with device', '500,000,000+', 'Free', '0', 'Everyone', 'Communication', '26-Jul-18', 'Varies with device', 'Varies with device']\n",
      "['GroupMe', 'COMMUNICATION', '4.5', '330761', 'Varies with device', '10,000,000+', 'Free', '0', 'Everyone', 'Communication', '3-Jul-18', 'Varies with device', 'Varies with device']\n",
      "['mysms SMS Text Messaging Sync', 'COMMUNICATION', '4.3', '37320', '8.4M', '1,000,000+', 'Free', '0', 'Everyone', 'Communication', '30-Jul-18', '6.5.1', '4.0.3 and up']\n",
      "['2ndLine - Second Phone Number', 'COMMUNICATION', '4.2', '15880', '32M', '1,000,000+', 'Free', '0', 'Everyone', 'Communication', '3-Aug-18', '5.65.0', '4.0 and up']\n",
      "['Google Chrome: Fast & Secure', 'COMMUNICATION', '4.3', '9643041', 'Varies with device', '1,000,000,000+', 'Free', '0', 'Everyone', 'Communication', '1-Aug-18', 'Varies with device', 'Varies with device']\n",
      "['Firefox Browser fast & private', 'COMMUNICATION', '4.4', '3075118', 'Varies with device', '100,000,000+', 'Free', '0', 'Everyone', 'Communication', '10-Jul-18', 'Varies with device', 'Varies with device']\n",
      "['Ninesky Browser', 'COMMUNICATION', '4.2', '42925', '2.8M', '1,000,000+', 'Free', '0', 'Everyone', 'Communication', '27-Aug-17', '6.1', '2.3 and up']\n",
      "['Dolphin Browser - Fast, Private & Adblock🐬', 'COMMUNICATION', '4.5', '2511130', 'Varies with device', '50,000,000+', 'Free', '0', 'Everyone', 'Communication', '2-Jul-18', 'Varies with device', 'Varies with device']\n",
      "['UC Browser - Fast Download Private & Secure', 'COMMUNICATION', '4.5', '17714850', '40M', '500,000,000+', 'Free', '0', 'Teen', 'Communication', '2-Aug-18', '12.8.5.1121', '4.0 and up']\n",
      "['Ghostery Privacy Browser', 'COMMUNICATION', '4.1', '13100', '2.2M', '1,000,000+', 'Free', '0', 'Everyone', 'Communication', '20-Mar-18', '1.4.1.0', '4.0.3 and up']\n",
      "['InBrowser - Incognito Browsing', 'COMMUNICATION', '4.2', '27156', 'Varies with device', '1,000,000+', 'Free', '0', 'Everyone', 'Communication', '31-May-18', 'Varies with device', 'Varies with device']\n",
      "['Lightning Web Browser', 'COMMUNICATION', '4.1', '12578', '2.3M', '500,000+', 'Free', '0', 'Everyone', 'Communication', '10-Jul-17', '4.5.1', '4.0 and up']\n",
      "['Web Browser', 'COMMUNICATION', '4.2', '10965', '2.3M', '500,000+', 'Free', '0', 'Everyone', 'Communication', '2-Feb-15', '2', '3.0 and up']\n",
      "['Puffin Browser Pro', 'COMMUNICATION', '4', '18247', 'Varies with device', '100,000+', 'Paid', '3.99 ', 'Everyone', 'Communication', '5-Jul-18', '7.5.3.20547', '4.1 and up']\n",
      "['Contacts+', 'COMMUNICATION', '4.2', '190613', '11M', '10,000,000+', 'Free', '0', 'Everyone', 'Communication', '31-Jul-18', '5.85.1', '4.0.3 and up']\n",
      "['ExDialer - Dialer & Contacts', 'COMMUNICATION', '4.2', '125232', '2.7M', '10,000,000+', 'Free', '0', 'Everyone', 'Communication', '5-Mar-17', '196', '2.1 and up']\n",
      "['PHONE for Google Voice & GTalk', 'COMMUNICATION', '4.3', '72065', '13M', '1,000,000+', 'Free', '0', 'Everyone', 'Communication', '18-Apr-18', '3.0.7', '4.0 and up']\n",
      "['Safest Call Blocker', 'COMMUNICATION', '4.4', '27540', '3.7M', '1,000,000+', 'Free', '0', 'Everyone', 'Communication', '5-Jan-18', '1.26.001', '4.0 and up']\n",
      "['Full Screen Caller ID', 'COMMUNICATION', '4.2', '104990', '10M', '5,000,000+', 'Free', '0', 'Everyone', 'Communication', '15-May-18', '3.5.0', '4.0.3 and up']\n",
      "['Hiya - Caller ID & Block', 'COMMUNICATION', '4.4', '177703', '13M', '10,000,000+', 'Free', '0', 'Mature 17+', 'Communication', '25-Jul-18', '8.1.2-6310', '5.0 and up']\n",
      "['Mr. Number-Block calls & spam', 'COMMUNICATION', '4.2', '177263', '13M', '10,000,000+', 'Free', '0', 'Mature 17+', 'Communication', '13-Jul-18', '5.1.2-6310', '5.0 and up']\n",
      "['Should I Answer?', 'COMMUNICATION', '4.8', '237468', '8.8M', '1,000,000+', 'Free', '0', 'Everyone', 'Communication', '26-Jul-18', '2018.1.715', '4.0 and up']\n",
      "['RocketDial Dialer & Contacts', 'COMMUNICATION', '4.4', '32254', '5.5M', '1,000,000+', 'Free', '0', 'Everyone', 'Communication', '4-Dec-17', '3.9.7', '2.1 and up']\n",
      "['CIA - Caller ID & Call Blocker', 'COMMUNICATION', '4', '60308', 'Varies with device', '5,000,000+', 'Free', '0', 'Everyone', 'Communication', '22-Jun-18', 'Varies with device', 'Varies with device']\n",
      "['Calls Blacklist - Call Blocker', 'COMMUNICATION', '4.5', '457283', 'Varies with device', '10,000,000+', 'Free', '0', 'Everyone', 'Communication', '24-May-18', 'Varies with device', 'Varies with device']\n",
      "['Call Control - Call Blocker', 'COMMUNICATION', '4.4', '93825', '11M', '5,000,000+', 'Free', '0', 'Everyone', 'Communication', '5-Jul-18', '2.17.3', '4.1 and up']\n",
      "['True Contact - Real Caller ID', 'COMMUNICATION', '4.1', '32283', 'Varies with device', '1,000,000+', 'Free', '0', 'Everyone', 'Communication', '26-Jul-18', 'Varies with device', 'Varies with device']\n",
      "['Video Caller Id', 'COMMUNICATION', '4.2', '15287', '17M', '1,000,000+', 'Free', '0', 'Everyone', 'Communication', '24-Jan-18', '2.2.245', '4.0.3 and up']\n",
      "['Sync.ME – Caller ID & Block', 'COMMUNICATION', '4.5', '205739', '17M', '5,000,000+', 'Free', '0', 'Everyone', 'Communication', '26-Jul-18', '4.5.4', '4.1 and up']\n",
      "['Burner - Free Phone Number', 'COMMUNICATION', '4.3', '14873', 'Varies with device', '1,000,000+', 'Free', '0', 'Everyone', 'Communication', '12-Jul-18', 'Varies with device', 'Varies with device']\n",
      "['Caller ID +', 'COMMUNICATION', '4', '9498', '118k', '1,000,000+', 'Free', '0', 'Everyone', 'Communication', '7-Jun-16', '5.28.0', '2.3 and up']\n",
      "['Gmail', 'COMMUNICATION', '4.3', '4604483', 'Varies with device', '1,000,000,000+', 'Free', '0', 'Everyone', 'Communication', '2-Aug-18', 'Varies with device', 'Varies with device']\n",
      "['K-9 Mail', 'COMMUNICATION', '4.2', '88427', '5.1M', '5,000,000+', 'Free', '0', 'Everyone', 'Communication', '6-Jan-18', '5.403', '4.0.3 and up']\n",
      "['myMail – Email for Hotmail, Gmail and Outlook Mail', 'COMMUNICATION', '4.5', '305218', 'Varies with device', '10,000,000+', 'Free', '0', 'Everyone', 'Communication', '3-Aug-18', 'Varies with device', 'Varies with device']\n",
      "['Email TypeApp - Mail App', 'COMMUNICATION', '4.6', '183374', '44M', '1,000,000+', 'Free', '0', 'Everyone', 'Communication', '1-Aug-18', '1.9.4.74', '4.1 and up']\n",
      "['All Email Providers', 'COMMUNICATION', '4.1', '20901', '7.3M', '1,000,000+', 'Free', '0', 'Everyone', 'Communication', '3-Apr-18', '5.0.9', '4.1 and up']\n",
      "['Newton Mail - Email App for Gmail, Outlook, IMAP', 'COMMUNICATION', '4', '122595', '30M', '1,000,000+', 'Free', '0', 'Everyone', 'Communication', '19-Jul-18', '9.8.376', '5.0 and up']\n",
      "['GO Notifier', 'COMMUNICATION', '4.2', '124346', '695k', '10,000,000+', 'Free', '0', 'Everyone', 'Communication', '6-Jul-14', '2.8', '2.0 and up']\n",
      "['Mail.Ru - Email App', 'COMMUNICATION', '4.6', '837842', 'Varies with device', '50,000,000+', 'Free', '0', 'Everyone', 'Communication', '3-Aug-18', 'Varies with device', 'Varies with device']\n",
      "['Mail1Click - Secure Mail', 'COMMUNICATION', '4.1', '255', '1.6M', '10,000+', 'Free', '0', 'Everyone', 'Communication', '11-Apr-17', '2.3', '2.2 and up']\n",
      "['Daum Mail - Next Mail', 'COMMUNICATION', '4.3', '41420', '19M', '5,000,000+', 'Free', '0', 'Everyone', 'Communication', '21-Jun-18', '3.2.0', '4.0 and up']\n",
      "['mail.com mail', 'COMMUNICATION', '4.2', '44706', 'Varies with device', '1,000,000+', 'Free', '0', 'Everyone', 'Communication', '25-Jul-18', 'Varies with device', 'Varies with device']\n",
      "['SolMail - All-in-One email app', 'COMMUNICATION', '4.3', '23707', 'Varies with device', '500,000+', 'Free', '0', 'Everyone', 'Communication', '9-Aug-17', '2.3.17', 'Varies with device']\n",
      "['Hangouts', 'COMMUNICATION', '4', '3419513', 'Varies with device', '1,000,000,000+', 'Free', '0', 'Everyone', 'Communication', '21-Jul-18', 'Varies with device', 'Varies with device']\n",
      "['Vonage Mobile® Call Video Text', 'COMMUNICATION', '4.1', '29208', '23M', '1,000,000+', 'Free', '0', 'Everyone', 'Communication', '28-Sep-16', '2.9.8', '2.3.3 and up']\n",
      "['JusTalk - Free Video Calls and Fun Video Chat', 'COMMUNICATION', '4.6', '191032', '26M', '5,000,000+', 'Free', '0', 'Everyone', 'Communication', '4-Aug-18', '7.2.29', '4.0.3 and up']\n",
      "['Azar', 'COMMUNICATION', '4.2', '1092337', 'Varies with device', '50,000,000+', 'Free', '0', 'Mature 17+', 'Communication', '24-Jul-18', 'Varies with device', 'Varies with device']\n",
      "['LokLok: Draw on a Lock Screen', 'COMMUNICATION', '4.1', '14766', '16M', '500,000+', 'Free', '0', 'Teen', 'Communication', '20-Sep-17', '0.81 beta', '4.0.3 and up']\n",
      "['Discord - Chat for Gamers', 'COMMUNICATION', '4.5', '305347', '39M', '10,000,000+', 'Free', '0', 'Teen', 'Communication', '27-Jul-18', '7.1.8', '4.1 and up']\n",
      "['Messenger Lite: Free Calls & Messages', 'COMMUNICATION', '4.4', '1429038', 'Varies with device', '100,000,000+', 'Free', '0', 'Everyone', 'Communication', '25-Jul-18', '37.0.0.7.163', '2.3 and up']\n",
      "['Deaf - Hearing chat device H', 'COMMUNICATION', '4.4', '9', '51k', '500+', 'Paid', '3.99 ', 'Everyone', 'Communication', '8-Feb-17', '3.6', '2.2 and up']\n",
      "['AntennaPict β', 'COMMUNICATION', '4.3', '15439', '2.2M', '1,000,000+', 'Free', '0', 'Everyone', 'Communication', '7-Nov-16', '2.0.0', '2.3 and up']\n",
      "['Talkatone: Free Texts, Calls & Phone Number', 'COMMUNICATION', '4.1', '132015', '25M', '10,000,000+', 'Free', '0', 'Everyone', 'Communication', '18-Jul-18', '6.1', '4.2 and up']\n",
      "['J Alvarej Moji', 'COMMUNICATION', 'NaN', '2', '13M', '10+', 'Paid', '1.99 ', 'Everyone', 'Communication', '3-May-17', '1', '3.2 and up']\n",
      "['Kik', 'COMMUNICATION', '4.3', '2451136', 'Varies with device', '100,000,000+', 'Free', '0', 'Teen', 'Communication', '3-Aug-18', 'Varies with device', 'Varies with device']\n",
      "['K-@ Mail Pro - Email App', 'COMMUNICATION', '4.2', '1603', 'Varies with device', '10,000+', 'Paid', '4.99 ', 'Everyone', 'Communication', '23-Jul-16', 'Varies with device', 'Varies with device']\n",
      "['K-@ Mail - Email App', 'COMMUNICATION', '4.1', '1760', 'Varies with device', '100,000+', 'Free', '0', 'Everyone', 'Communication', '23-Jul-16', 'Varies with device', 'Varies with device']\n",
      "['KakaoTalk: Free Calls & Text', 'COMMUNICATION', '4.3', '2546549', 'Varies with device', '100,000,000+', 'Free', '0', 'Everyone', 'Communication', '3-Aug-18', 'Varies with device', 'Varies with device']\n",
      "['K-9 Material (unofficial)', 'COMMUNICATION', '4.4', '64', '4.5M', '5,000+', 'Free', '0', 'Teen', 'Communication', '27-Mar-17', '5.206', '5.0 and up']\n",
      "['M star Dialer', 'COMMUNICATION', '3.5', '400', '4.2M', '100,000+', 'Free', '0', 'Everyone', 'Communication', '20-Mar-17', '3.8.8', '2.2 and up']\n",
      "['Free WiFi Connect', 'COMMUNICATION', '3.9', '167229', '9.7M', '10,000,000+', 'Free', '0', 'Everyone', 'Communication', '31-Mar-18', '8.1', '4.1 and up']\n",
      "['m:go BiH', 'COMMUNICATION', '3.2', '559', '6.0M', '10,000+', 'Free', '0', 'Everyone', 'Communication', '25-Jul-18', '3.4', '3.0 and up']\n",
      "['N-Com Wizard', 'COMMUNICATION', '3.3', '960', '3.8M', '50,000+', 'Free', '0', 'Everyone', 'Communication', '21-Sep-17', '2.1.2', '2.3.3 and up']\n",
      "['Opera Mini - fast web browser', 'COMMUNICATION', '4.5', '5150801', 'Varies with device', '100,000,000+', 'Free', '0', 'Everyone', 'Communication', '19-Jul-18', 'Varies with device', 'Varies with device']\n",
      "['Opera Browser: Fast and Secure', 'COMMUNICATION', '4.4', '2473795', 'Varies with device', '100,000,000+', 'Free', '0', 'Everyone', 'Communication', '31-Jul-18', '47.1.2249.129326', 'Varies with device']\n",
      "['Opera Mini browser beta', 'COMMUNICATION', '4.4', '401530', 'Varies with device', '10,000,000+', 'Free', '0', 'Everyone', 'Communication', '3-Aug-18', 'Varies with device', 'Varies with device']\n",
      "['Psiphon Pro - The Internet Freedom VPN', 'COMMUNICATION', '4.3', '298041', 'Varies with device', '10,000,000+', 'Free', '0', 'Everyone', 'Communication', '3-Jul-18', 'Varies with device', 'Varies with device']\n",
      "['pretty Easy privacy p≡p', 'COMMUNICATION', '3.7', '21', '20M', '500+', 'Paid', '0.99 ', 'Everyone', 'Communication', '30-Jul-18', '1.0.100rc1.withoutKeysync', '5.0 and up']\n",
      "['ICQ — Video Calls & Chat Messenger', 'COMMUNICATION', '4.4', '697939', 'Varies with device', '10,000,000+', 'Free', '0', 'Everyone', 'Communication', '18-Jul-18', '7.3(823181)', '4.4 and up']\n",
      "['Telegram', 'COMMUNICATION', '4.4', '3128611', 'Varies with device', '100,000,000+', 'Free', '0', 'Mature 17+', 'Communication', '27-Jul-18', 'Varies with device', 'Varies with device']\n",
      "['AT&T Messages for Tablet', 'COMMUNICATION', '3.3', '3044', 'Varies with device', '1,000,000+', 'Free', '0', 'Everyone', 'Communication', '3-Apr-17', 'Varies with device', 'Varies with device']\n",
      "['T-Mobile DIGITS', 'COMMUNICATION', '3', '1820', '33M', '100,000+', 'Free', '0', 'Everyone', 'Communication', '15-Feb-18', '1.1.50', '4.4 and up']\n",
      "['Truecaller: Caller ID, SMS spam blocking & Dialer', 'COMMUNICATION', '4.5', '7820775', 'Varies with device', '100,000,000+', 'Free', '0', 'Everyone', 'Communication', '1-Aug-18', 'Varies with device', 'Varies with device']\n",
      "['Portable Wi-Fi hotspot', 'COMMUNICATION', '3.9', '138129', '2.1M', '10,000,000+', 'Free', '0', 'Everyone', 'Communication', '6-May-18', '1.5.2.4-23', '2.3 and up']\n",
      "['AT&T Call Protect', 'COMMUNICATION', '4.2', '6454', '15M', '5,000,000+', 'Free', '0', 'Everyone', 'Communication', '3-May-18', '1.5.13-3598', '5.0 and up']\n",
      "['U - Webinars, Meetings & Messenger', 'COMMUNICATION', '4.1', '6601', '31M', '500,000+', 'Free', '0', 'Everyone', 'Communication', '2-Jul-18', '4.7.0', '4.1 and up']\n",
      "['UC Browser Mini -Tiny Fast Private & Secure', 'COMMUNICATION', '4.4', '3648765', '3.3M', '100,000,000+', 'Free', '0', 'Teen', 'Communication', '18-Jul-18', '11.4.0', '4.0 and up']\n",
      "['/u/app', 'COMMUNICATION', '4.7', '573', '53M', '10,000+', 'Free', '0', 'Mature 17+', 'Communication', '3-Jul-18', '4.2.4', '4.1 and up']\n",
      "['[verify-U] VideoIdent', 'COMMUNICATION', '2.9', '83', '13M', '10,000+', 'Free', '0', 'Everyone', 'Communication', '26-Apr-18', '2.4.0', '5.0 and up']\n",
      "['Viber Messenger', 'COMMUNICATION', '4.3', '11335481', 'Varies with device', '500,000,000+', 'Free', '0', 'Everyone', 'Communication', '18-Jul-18', 'Varies with device', 'Varies with device']\n",
      "['WeChat', 'COMMUNICATION', '4.2', '5387631', 'Varies with device', '100,000,000+', 'Free', '0', 'Everyone', 'Communication', '31-Jul-18', 'Varies with device', 'Varies with device']\n",
      "['WhatsApp Business', 'COMMUNICATION', '4.4', '137144', '32M', '10,000,000+', 'Free', '0', 'Everyone', 'Communication', '30-Jul-18', '2.18.116', '4.0.3 and up']\n",
      "['WhatsCall Free Global Phone Call App & Cheap Calls', 'COMMUNICATION', '4.6', '1130966', '27M', '10,000,000+', 'Free', '0', 'Everyone', 'Communication', '6-Jun-18', '1.9.1.013', '4.0 and up']\n",
      "['X Browser', 'COMMUNICATION', '4', '142', '2.5M', '50,000+', 'Free', '0', 'Everyone', 'Communication', '31-Dec-17', '1.1.1', '4.0 and up']\n",
      "['Yahoo Mail – Stay Organized', 'COMMUNICATION', '4.3', '4188345', '16M', '100,000,000+', 'Free', '0', 'Everyone', 'Communication', '18-Jul-18', '5.29.3', '4.4 and up']\n",
      "['Z PIVOT', 'COMMUNICATION', 'NaN', '0', '5.7M', '10+', 'Paid', '19.99 ', 'Everyone', 'Communication', '11-Jul-18', '1.3', '4.2 and up']\n",
      "['Free Adblocker Browser - Adblock & Popup Blocker', 'COMMUNICATION', '4.4', '152470', 'Varies with device', '10,000,000+', 'Free', '0', 'Everyone', 'Communication', '19-Jul-18', 'Varies with device', 'Varies with device']\n",
      "['Adblock Browser for Android', 'COMMUNICATION', '4.1', '121113', '39M', '10,000,000+', 'Free', '0', 'Everyone', 'Communication', '11-Jul-18', '1.4.0', '4.1 and up']\n",
      "['CM Browser - Ad Blocker , Fast Download , Privacy', 'COMMUNICATION', '4.6', '2265084', '6.1M', '50,000,000+', 'Free', '0', 'Everyone', 'Communication', '31-Jul-18', '5.22.18.0006', '4.0 and up']\n",
      "['Adblock Plus for Samsung Internet - Browse safe.', 'COMMUNICATION', '4', '8769', '2.1M', '1,000,000+', 'Free', '0', 'Everyone', 'Communication', '5-Apr-18', '1.1.4', '5.0 and up']\n",
      "['Ad Blocker Turbo - Adblocker Browser', 'COMMUNICATION', '3.9', '107', '44M', '10,000+', 'Free', '0', 'Everyone', 'Communication', '29-Jan-18', '1.0.5', '4.1 and up']\n",
      "['Brave Browser: Fast AdBlocker', 'COMMUNICATION', '4.3', '40241', 'Varies with device', '5,000,000+', 'Free', '0', 'Everyone', 'Communication', '30-Jun-18', '1.0.52', '4.1 and up']\n",
      "['AG Contacts, Premium edition', 'COMMUNICATION', '4.5', '88', '3.7M', '500+', 'Paid', '4.99 ', 'Everyone', 'Communication', '18-May-18', '8.05.18.14250', '4.0.3 and up']\n",
      "['AG Contacts, Lite edition', 'COMMUNICATION', '4.5', '185', '3.7M', '5,000+', 'Free', '0', 'Everyone', 'Communication', '18-May-18', '8.05.18.14250', '4.0.3 and up']\n",
      "['Oklahoma Ag Co-op Council', 'COMMUNICATION', 'NaN', '0', '4.9M', '10+', 'Free', '0', 'Everyone', 'Communication', '23-Jul-18', '2.2.3', '4.0.3 and up']\n",
      "[\"Bee'ah Employee App\", 'COMMUNICATION', '4', '4', '5.4M', '100+', 'Free', '0', 'Teen', 'Communication', '24-Dec-17', '2.26.5.0', '5.0 and up']\n",
      "['tournaments and more.aj.2', 'COMMUNICATION', 'NaN', '0', '4.2M', '100+', 'Free', '0', 'Teen', 'Communication', '25-Sep-17', '4.3', '2.3 and up']\n",
      "['Aj.Petra', 'COMMUNICATION', 'NaN', '5', '14M', '100+', 'Free', '0', 'Everyone', 'Communication', '29-Sep-17', '1.0.1', '4.1 and up']\n",
      "['AK Phone', 'COMMUNICATION', '4.4', '9', '4.2M', '5,000+', 'Free', '0', 'Everyone', 'Communication', '29-May-17', '3.8.8', '2.2 and up']\n",
      "['PlacarTv Futebol Ao Vivo', 'COMMUNICATION', '4.1', '2063', '4.5M', '100,000+', 'Free', '0', 'Everyone', 'Communication', '3-Jun-18', '1.0.3', '4.0 and up']\n",
      "['WiFi Access Point (hotspot)', 'COMMUNICATION', '3.9', '684', '61k', '100,000+', 'Free', '0', 'Everyone', 'Communication', '14-May-15', '1.1.2', '2.3 and up']\n",
      "['Access Point Names', 'COMMUNICATION', '4', '138', '2.4M', '10,000+', 'Free', '0', 'Everyone', 'Communication', '12-Aug-14', '1', '2.3.3 and up']\n",
      "['Puffin Web Browser', 'COMMUNICATION', '4.3', '541661', 'Varies with device', '10,000,000+', 'Free', '0', 'Everyone', 'Communication', '9-Jul-18', '7.5.3.20547', '4.1 and up']\n",
      "['ClanHQ', 'COMMUNICATION', '2.7', '560', '37M', '10,000+', 'Free', '0', 'Everyone', 'Communication', '25-Jul-18', '1.0.21', '4.4 and up']\n",
      "['Ear Agent: Super Hearing', 'COMMUNICATION', '3.7', '42329', 'Varies with device', '5,000,000+', 'Free', '0', 'Everyone', 'Communication', '4-Jun-18', 'Varies with device', 'Varies with device']\n",
      "['Google Voice', 'COMMUNICATION', '4.2', '171052', 'Varies with device', '10,000,000+', 'Free', '0', 'Everyone', 'Communication', '3-Aug-18', 'Varies with device', 'Varies with device']\n",
      "['Google Allo', 'COMMUNICATION', '4.3', '347086', 'Varies with device', '10,000,000+', 'Free', '0', 'Everyone', 'Communication', '23-Jan-18', 'Varies with device', '4.1 and up']\n",
      "['AU Call Blocker - Block Unwanted Calls Texts 2018', 'COMMUNICATION', '4.2', '16', '3.3M', '1,000+', 'Free', '0', 'Everyone', 'Communication', '24-Apr-18', '1.0.4', '4.1 and up']\n",
      "['Baby Monitor AV', 'COMMUNICATION', '3.3', '1434', '9.5M', '100,000+', 'Free', '0', 'Everyone', 'Communication', '6-Mar-14', '1.2.5', '2.3 and up']\n",
      "['AV Phone', 'COMMUNICATION', 'NaN', '4', '3.7M', '1,000+', 'Free', '0', 'Everyone', 'Communication', '9-Jul-18', '2.1.9', '5.1 and up']\n",
      "['AW - free video calls and chat', 'COMMUNICATION', '4', '7317', 'Varies with device', '1,000,000+', 'Free', '0', 'Teen', 'Communication', '4-Jul-18', '1.0.08.73', '4.0.3 and up']\n",
      "['Katalogen.ax', 'COMMUNICATION', 'NaN', '1', '172k', '100+', 'Free', '0', 'Everyone', 'Communication', '2-Oct-14', '1.0.0', '2.2 and up']\n",
      "['AZ Browser. Private & Download', 'COMMUNICATION', '4.4', '1520', '5.2M', '100,000+', 'Free', '0', 'Everyone', 'Communication', '31-Dec-16', '1.4', '4.4 and up']\n",
      "['BA SALES', 'COMMUNICATION', 'NaN', '0', '2.9M', '1+', 'Free', '0', 'Everyone', 'Communication', '31-Jan-18', '1', '4.0.3 and up']\n",
      "['BD Data Plan (3G & 4G)', 'COMMUNICATION', '4.4', '10341', '6.9M', '500,000+', 'Free', '0', 'Everyone', 'Communication', '5-Jul-18', '5.2.4', '4.1 and up']\n",
      "['BD Internet Packages (Updated)', 'COMMUNICATION', '4', '474', '3.0M', '50,000+', 'Free', '0', 'Everyone', 'Communication', '5-Aug-16', '0.0.5', '4.0 and up']\n",
      "['BD Dialer', 'COMMUNICATION', '4.1', '29', '13M', '10,000+', 'Free', '0', 'Everyone', 'Communication', '9-Jul-18', '1.8.3', '4.1 and up']\n",
      "['BD Live Call', 'COMMUNICATION', '4.4', '7', '308k', '5,000+', 'Free', '0', 'Everyone', 'Communication', '6-Sep-16', '1.01', '2.0 and up']\n",
      "['Best Browser BD social networking', 'COMMUNICATION', '4.8', '6', '21M', '10+', 'Free', '0', 'Everyone', 'Communication', '4-Jul-18', '2', '4.1 and up']\n",
      "['Traffic signs BD', 'COMMUNICATION', '4.4', '7', '5.3M', '500+', 'Free', '0', 'Everyone', 'Communication', '8-Oct-15', '1', '4.1 and up']\n",
      "['BF Browser by Betfilter - Stop Gambling Today!', 'COMMUNICATION', '3', '39', '4.6M', '10,000+', 'Free', '0', 'Everyone', 'Communication', '4-Sep-17', '1.4', '4.0.3 and up']\n",
      "['My BF App', 'COMMUNICATION', '4.1', '141', '9.9M', '50,000+', 'Free', '0', 'Everyone', 'Communication', '19-Dec-17', '2', '4.0 and up']\n",
      "['BH Mail', 'COMMUNICATION', '3.4', '7', '6.0M', '1,000+', 'Free', '0', 'Everyone', 'Communication', '3-Apr-18', '5.403', '4.0.3 and up']\n",
      "['Zalo – Video Call', 'COMMUNICATION', '4.2', '1042170', 'Varies with device', '50,000,000+', 'Free', '0', 'Everyone', 'Communication', '27-Jul-18', 'Varies with device', 'Varies with device']\n",
      "['BJ - Confidential', 'COMMUNICATION', 'NaN', '0', '3.2M', '10+', 'Free', '0', 'Teen', 'Communication', '23-Apr-18', '1.7', '4.1 and up']\n",
      "['BK Chat', 'COMMUNICATION', 'NaN', '6', '31M', '1,000+', 'Free', '0', 'Teen', 'Communication', '30-Jul-18', '2.1', '4.1 and up']\n",
      "['Of the wall Arapaho bk', 'COMMUNICATION', 'NaN', '0', '12M', '5+', 'Free', '0', 'Everyone', 'Communication', '18-Aug-17', '1', '4.1 and up']\n",
      "['AC-BL', 'COMMUNICATION', 'NaN', '0', '4.3M', '50+', 'Free', '0', 'Everyone', 'Communication', '20-Apr-18', '1.7', '2.1 and up']\n",
      "['BBM - Free Calls & Messages', 'COMMUNICATION', '4.3', '12843436', 'Varies with device', '100,000,000+', 'Free', '0', 'Everyone', 'Communication', '2-Aug-18', 'Varies with device', '4.0.3 and up']\n",
      "['DMR BrandMeister Tool', 'COMMUNICATION', '3.3', '78', '2.5M', '10,000+', 'Free', '0', 'Everyone', 'Communication', '31-Mar-18', '4.5', '6.0 and up']\n",
      "['BBMoji - Your personalized BBM Stickers', 'COMMUNICATION', '4.3', '8827', 'Varies with device', '1,000,000+', 'Free', '0', 'Everyone', 'Communication', '22-May-18', '1.0.2', '4.0.3 and up']\n",
      "['BN MALLORCA Radio', 'COMMUNICATION', 'NaN', '23', '13M', '1,000+', 'Free', '0', 'Everyone', 'Communication', '29-Nov-17', '2.0.14.4', '2.3 and up']\n",
      "['BQ Partners', 'COMMUNICATION', 'NaN', '0', 'Varies with device', '1,000+', 'Free', '0', 'Everyone', 'Communication', '27-Jul-18', 'Varies with device', 'Varies with device']\n",
      "['BS-Mobile', 'COMMUNICATION', '5', '1', '683k', '50+', 'Free', '0', 'Everyone', 'Communication', '3-Sep-15', '0.1', '2.3 and up']\n",
      "['ATC Unico BS', 'COMMUNICATION', 'NaN', '10', '5.3M', '500+', 'Free', '0', 'Everyone', 'Communication', '16-Oct-15', '0.12', '4.1 and up']\n",
      "['BT One Voice mobile access', 'COMMUNICATION', '4', '32', '437k', '5,000+', 'Free', '0', 'Everyone', 'Communication', '30-Jul-15', 'Version 1.6', '1.6 and up']\n",
      "['BT Messenger', 'COMMUNICATION', '3.9', '97', '598k', '50,000+', 'Free', '0', 'Everyone', 'Communication', '15-May-15', '1', '2.2 and up']\n",
      "['BT One Phone Mobile App', 'COMMUNICATION', '3.5', '33', '2.7M', '10,000+', 'Free', '0', 'Everyone', 'Communication', '18-Sep-17', '2.2.6', '4.1 and up']\n",
      "['SW-100.tch by Callstel', 'COMMUNICATION', '4', '1926', '716k', '1,000,000+', 'Free', '0', 'Everyone', 'Communication', '16-Dec-15', '1.3.20', '2.2 and up']\n",
      "['BT MeetMe with Dolby Voice', 'COMMUNICATION', '3.6', '437', '12M', '100,000+', 'Free', '0', 'Everyone', 'Communication', '13-Jul-18', '2.66.5', '5.0 and up']\n",
      "['Bluetooth Auto Connect', 'COMMUNICATION', '3.9', '20829', '1.9M', '5,000,000+', 'Free', '0', 'Everyone', 'Communication', '17-Nov-17', '4.5.4', '3.0 and up']\n",
      "['AudioBT: BT audio GPS/SMS/Text', 'COMMUNICATION', '3.4', '198', '219k', '50,000+', 'Free', '0', 'Everyone', 'Communication', '21-Feb-17', '3.2.1', '4.0 and up']\n",
      "['BV', 'COMMUNICATION', '5', '3', '1.6M', '100+', 'Free', '0', 'Everyone', 'Communication', '4-Aug-16', '1,01', '3.0 and up']\n",
      "['Feel Performer', 'COMMUNICATION', '2.2', '62', '34M', '10,000+', 'Free', '0', 'Everyone', 'Communication', '9-Apr-18', '2.0.3', '4.1 and up']\n",
      "['Tiny Call Confirm', 'COMMUNICATION', '4.1', '22782', '351k', '1,000,000+', 'Free', '0', 'Everyone', 'Communication', '25-Mar-15', '4.2.0', '2.2 and up']\n",
      "['CB Radio Chat - for friends!', 'COMMUNICATION', '4', '17998', '7.9M', '1,000,000+', 'Free', '0', 'Teen', 'Communication', '27-Mar-18', '2.6.3', '4.0 and up']\n",
      "['CB On Mobile', 'COMMUNICATION', '4.1', '901', '323k', '100,000+', 'Free', '0', 'Teen', 'Communication', '26-Apr-17', '1.0.5', '4.0 and up']\n",
      "['Virtual Walkie Talkie', 'COMMUNICATION', '3.8', '21785', '2.5M', '1,000,000+', 'Free', '0', 'Everyone', 'Communication', '13-Aug-15', '1.41', '2.3 and up']\n",
      "['Channel 19', 'COMMUNICATION', '3.7', '916', '12M', '100,000+', 'Free', '0', 'Mature 17+', 'Communication', '13-Jul-18', '2.2.6', '4.1 and up']\n",
      "['Cb browser', 'COMMUNICATION', '5', '5', '3.7M', '50+', 'Free', '0', 'Everyone', 'Communication', '2-Apr-18', '1', '4.0 and up']\n",
      "['CF Chat: Connecting Friends', 'COMMUNICATION', '3.4', '5', '2.4M', '100+', 'Free', '0', 'Teen', 'Communication', '27-Apr-16', '1.4', '2.3 and up']\n",
      "['retteMi.ch', 'COMMUNICATION', 'NaN', '31', 'Varies with device', '5,000+', 'Free', '0', 'Everyone', 'Communication', '28-Apr-18', 'Varies with device', 'Varies with device']\n",
      "['Chrome Dev', 'COMMUNICATION', '4.4', '63576', 'Varies with device', '5,000,000+', 'Free', '0', 'Everyone', 'Communication', '2-Aug-18', '69.0.3497.24', 'Varies with device']\n",
      "['Threema', 'COMMUNICATION', '4.5', '51110', 'Varies with device', '1,000,000+', 'Paid', '2.99 ', 'Everyone', 'Communication', '3-Aug-18', 'Varies with device', 'Varies with device']\n",
      "['CJ Browser - Fast & Private', 'COMMUNICATION', '4.2', '5', '15M', '100+', 'Free', '0', 'Everyone', 'Communication', '7-Nov-17', '1', '4.0 and up']\n",
      "['CJ DVD Rentals', 'COMMUNICATION', '1', '5', '13M', '100+', 'Free', '0', 'Everyone', 'Communication', '6-Oct-17', '1', '4.1 and up']\n",
      "['CK Call NEW', 'COMMUNICATION', 'NaN', '0', '4.2M', '10+', 'Free', '0', 'Everyone', 'Communication', '26-Apr-17', '3.8.8', '2.2 and up']\n",
      "['FREE CHATS C.L.', 'COMMUNICATION', 'NaN', '4', '3.4M', '10+', 'Paid', '0.99 ', 'Mature 17+', 'Communication', '12-Feb-18', '11', '4.0.3 and up']\n",
      "['CM Transfer - Share any files with friends nearby', 'COMMUNICATION', '4.6', '71740', '5.8M', '5,000,000+', 'Free', '0', 'Everyone', 'Communication', '27-Jun-18', '2.0.7.0014', '4.0 and up']\n",
      "['mail.co.uk Mail', 'COMMUNICATION', '4.2', '21', '8.7M', '5,000+', 'Free', '0', 'Everyone', 'Communication', '24-Jul-18', '1.1.0', '4.0.3 and up']\n",
      "['ClanPlay: Community and Tools for Gamers', 'COMMUNICATION', '4.8', '34443', '27M', '1,000,000+', 'Free', '0', 'Teen', 'Communication', '28-Jun-18', '1.14.3', '5.0 and up']\n",
      "['CQ-Mobile', 'COMMUNICATION', 'NaN', '10', '8.1M', '1,000+', 'Free', '0', 'Everyone', 'Communication', '28-Nov-16', '5.5.0', '4.0 and up']\n",
      "['CQ-Alert', 'COMMUNICATION', 'NaN', '3', '8.1M', '500+', 'Free', '0', 'Everyone', 'Communication', '28-Nov-16', '5.5.0', '4.0 and up']\n",
      "['QRZ Assistant', 'COMMUNICATION', '4.2', '1044', '3.5M', '100,000+', 'Free', '0', 'Everyone', 'Communication', '30-May-18', '2', '4.4 and up']\n",
      "['Pocket Prefix Plus', 'COMMUNICATION', '4.5', '192', '15M', '10,000+', 'Free', '0', 'Everyone', 'Communication', '12-Feb-18', 'v2.6.0', '3.0 and up']\n",
      "['10 WPM Amateur ham radio CW Morse code trainer', 'COMMUNICATION', '3.5', '10', '3.8M', '100+', 'Paid', '1.49 ', 'Everyone', 'Communication', '12-May-18', '2.1.4', '2.1 and up']\n",
      "['Ham Radio Prefixes', 'COMMUNICATION', '3.7', '218', '3.7M', '10,000+', 'Free', '0', 'Everyone', 'Communication', '12-Jul-14', '1.12', '2.3 and up']\n",
      "['CS Customizer', 'COMMUNICATION', '3.7', '25', '3.7M', '1,000+', 'Free', '0', 'Everyone', 'Communication', '6-Feb-17', '1.2.11', '3.0 and up']\n",
      "['CS Browser | #1 & BEST BROWSER', 'COMMUNICATION', '3.8', '52', '2.1M', '1,000+', 'Free', '0', 'Everyone', 'Communication', '28-Aug-15', '2', '3.0 and up']\n",
      "['CS Browser Beta', 'COMMUNICATION', '4.3', '125', '53M', '5,000+', 'Free', '0', 'Everyone', 'Communication', '16-Oct-17', '60.0.3112.3046279', '4.1 and up']\n",
      "['My Vodafone (GR)', 'COMMUNICATION', '3.8', '12667', '34M', '1,000,000+', 'Free', '0', 'Everyone', 'Communication', '1-Aug-18', '4.5.5.1-2090AL-REL', '4.3 and up']\n",
      "['CV-RECORD Pro', 'COMMUNICATION', '2.3', '42', '6.0M', '1,000+', 'Paid', '0.99 ', 'Everyone', 'Communication', '12-Jan-17', '1.0.5', '4.1 and up']\n",
      "['2 Amateur ham radio CW Morse code practice keys TX', 'COMMUNICATION', '4.8', '6', '3.5M', '100+', 'Paid', '1.49 ', 'Everyone', 'Communication', '5-Mar-18', '1.0.9', '1.6 and up']\n",
      "['CW Beacon for Ham Radio', 'COMMUNICATION', '4.8', '10', '516k', '100+', 'Paid', '1.49 ', 'Everyone', 'Communication', '22-Jan-15', 'KM', '1.6 and up']\n",
      "['IZ2UUF Morse Koch CW', 'COMMUNICATION', '4.6', '649', '837k', '50,000+', 'Free', '0', 'Everyone', 'Communication', '8-Aug-13', '1.0.013', '2.1 and up']\n",
      "['Morse Decoder for Ham Radio', 'COMMUNICATION', '3.7', '166', '2.0M', '5,000+', 'Paid', '4.99 ', 'Everyone', 'Communication', '14-Mar-17', '1.52', '2.3 and up']\n",
      "['C W Browser', 'COMMUNICATION', '4.4', '14', '17M', '100+', 'Free', '0', 'Everyone', 'Communication', '28-Oct-17', '1', '4.0 and up']\n",
      "['CW Studio ®', 'COMMUNICATION', '3.8', '9', '780k', '100+', 'Paid', '0.99 ', 'Everyone', 'Communication', '19-May-15', '1.2', '2.3.3 and up']\n",
      "['20WPM Amateur ham radio Koch CW Morse code trainer', 'COMMUNICATION', '4.3', '12', '3.7M', '100+', 'Paid', '1.49 ', 'Everyone', 'Communication', '22-May-18', '3.0.4', '2.1 and up']\n",
      "['CW Bluetooth SPP', 'COMMUNICATION', 'NaN', '3', '961k', '100+', 'Free', '0', 'Everyone', 'Communication', '31-Mar-18', '1.2', '6.0 and up']\n",
      "['Morse Trainer for Ham Radio', 'COMMUNICATION', '4.6', '265', '2.6M', '10,000+', 'Paid', '2.99 ', 'Everyone', 'Communication', '6-Jan-18', '2.28', '2.3 and up']\n",
      "['CW BLE Peripheral Simulator', 'COMMUNICATION', 'NaN', '2', '1.5M', '500+', 'Free', '0', 'Everyone', 'Communication', '8-Mar-17', '1', '4.4 and up']\n",
      "['Morse Machine for Ham Radio', 'COMMUNICATION', '4.8', '341', '9.6M', '5,000+', 'Paid', '0.99 ', 'Everyone', 'Communication', '20-Feb-15', 'iu4', '2.0 and up']\n",
      "['CW Ringtone (Morse Code generator)', 'COMMUNICATION', 'NaN', '0', '269k', '10+', 'Paid', '2.49 ', 'Everyone', 'Communication', '16-Mar-18', '1.0.2', '2.2 and up']\n",
      "['Koch Morse Trainer Pro', 'COMMUNICATION', '4.6', '94', '1.1M', '1,000+', 'Paid', '2.49 ', 'Everyone', 'Communication', '14-Feb-15', '2.1.1', '2.2 and up']\n",
      "['Morse Code Reader', 'COMMUNICATION', '3.9', '1436', '20k', '100,000+', 'Free', '0', 'Everyone', 'Communication', '26-Aug-13', '1', '1.6 and up']\n",
      "['Learn Morse Code - G0HYN Learn Morse', 'COMMUNICATION', '4', '27', '600k', '5,000+', 'Free', '0', 'Everyone', 'Communication', '8-May-18', '5', '2.2 and up']\n",
      "['Ring', 'COMMUNICATION', '3.9', '517', '35M', '10,000+', 'Free', '0', 'Everyone', 'Communication', '6-Aug-18', '20180805', '4.4 and up']\n",
      "['Hyundai CX Conference', 'COMMUNICATION', 'NaN', '0', '20M', '50+', 'Free', '0', 'Everyone', 'Communication', '27-May-18', '2.10.2', '4.2 and up']\n",
      "['Cy Messenger', 'COMMUNICATION', '4.5', '4', '8.1M', '100+', 'Free', '0', 'Everyone', 'Communication', '30-Aug-14', '1.3.0', '2.3.3 and up']\n",
      "['Amadeus GR & CY', 'COMMUNICATION', 'NaN', '4', '3.8M', '100+', 'Free', '0', 'Everyone', 'Communication', '1-Feb-18', '2.07', '4.1 and up']\n",
      "['Hlášenírozhlasu.cz', 'COMMUNICATION', 'NaN', '0', '17M', '10+', 'Free', '0', 'Everyone', 'Communication', '27-Jul-18', '2.1.3', '4.1 and up']\n",
      "['SMS Sender - sluzba.cz', 'COMMUNICATION', 'NaN', '12', '72k', '1,000+', 'Free', '0', 'Everyone', 'Communication', '1-Jun-12', '2.00.00', '2.0 and up']\n",
      "['WEB.DE Mail', 'COMMUNICATION', '4.3', '226541', 'Varies with device', '10,000,000+', 'Free', '0', 'Everyone', 'Communication', '25-Jul-18', 'Varies with device', 'Varies with device']\n",
      "['Your Freedom VPN Client', 'COMMUNICATION', '4', '74497', '5.3M', '5,000,000+', 'Free', '0', 'Everyone', 'Communication', '19-May-18', '20180518-01', '4.0 and up']\n",
      "['CallApp: Caller ID, Blocker & Phone Call Recorder', 'COMMUNICATION', '4.4', '483782', '20M', '10,000,000+', 'Free', '0', 'Everyone', 'Communication', '29-Jul-18', '1.286', '4.1 and up']\n",
      "['Rádio Sol Nascente DF', 'COMMUNICATION', 'NaN', '12', '1.6M', '500+', 'Free', '0', 'Everyone', 'Communication', '28-Jul-16', '3.1', '2.3 and up']\n",
      "['DG Card', 'COMMUNICATION', 'NaN', '0', 'Varies with device', '100+', 'Free', '0', 'Everyone', 'Communication', '15-Aug-17', 'Varies with device', 'Varies with device']\n",
      "['Whoscall - Caller ID & Block', 'COMMUNICATION', '4.4', '552635', '29M', '10,000,000+', 'Free', '0', 'Everyone', 'Communication', '1-Aug-18', '6.19.1', '4.1 and up']\n",
      "['DK Browser', 'COMMUNICATION', '4', '1', '2.4M', '10+', 'Free', '0', 'Everyone', 'Communication', '25-Apr-17', '1', '4.2 and up']\n",
      "['cluster.dk', 'COMMUNICATION', 'NaN', '49', '1.1M', '1,000+', 'Free', '0', 'Everyone', 'Communication', '25-Jun-13', '1.0.2', '2.3 and up']\n",
      "['DK TEL Dialer', 'COMMUNICATION', 'NaN', '0', '4.2M', '50+', 'Free', '0', 'Everyone', 'Communication', '26-Nov-17', '3.8.8', '2.2 and up']\n",
      "['DM for WhatsApp', 'COMMUNICATION', '4.4', '25', '2.9M', '5,000+', 'Free', '0', 'Everyone', 'Communication', '3-Jun-18', '0.3.7', '4.4 and up']\n",
      "['DM Talk New', 'COMMUNICATION', 'NaN', '3', '4.2M', '5,000+', 'Free', '0', 'Everyone', 'Communication', '7-Feb-18', '3.8.8', '2.2 and up']\n",
      "['DM - The Offical Messaging App', 'COMMUNICATION', 'NaN', '0', '11M', '10+', 'Free', '0', 'Teen', 'Communication', '20-Dec-17', '1.3', '4.0.3 and up']\n",
      "['DM Tracker', 'COMMUNICATION', '3.5', '11', '5.2M', '1,000+', 'Free', '0', 'Everyone', 'Communication', '26-Jul-18', '2.0.1', '4.3 and up']\n",
      "['Call Blocker & Blacklist', 'COMMUNICATION', '4', '6', '4.2M', '1,000+', 'Free', '0', 'Everyone', 'Communication', '13-Jul-18', '3.1.0', '4.0 and up']\n",
      "['ReadyOp DT', 'COMMUNICATION', '4.6', '8', '1.1M', '1,000+', 'Free', '0', 'Everyone', 'Communication', '6-Jul-18', '1.0.56', '2.3.3 and up']\n",
      "['DU Browser—Browse fast & fun', 'COMMUNICATION', '4.3', '1133539', '4.7M', '10,000,000+', 'Free', '0', 'Everyone', 'Communication', '1-Apr-16', '6.4.0.4', '4.0 and up']\n",
      "['Caller ID & Call Block - DU Caller', 'COMMUNICATION', '4.6', '93930', '14M', '5,000,000+', 'Free', '0', 'Everyone', 'Communication', '1-Aug-18', '4.0.8', '4.2 and up']\n",
      "['BlueDV AMBE', 'COMMUNICATION', 'NaN', '0', 'Varies with device', '1,000+', 'Free', '0', 'Everyone', 'Communication', '23-May-18', 'Varies with device', 'Varies with device']\n",
      "['DW Contacts & Phone & Dialer', 'COMMUNICATION', '4.3', '21186', '10M', '1,000,000+', 'Free', '0', 'Everyone', 'Communication', '4-Aug-18', 'Varies with device', 'Varies with device']\n",
      "['Deaf World DW', 'COMMUNICATION', '4.3', '298', 'Varies with device', '10,000+', 'Free', '0', 'Teen', 'Communication', '28-Nov-17', 'Varies with device', '4.1 and up']\n",
      "['Ham DX Cluster & Spots Finder', 'COMMUNICATION', '4.5', '115', '2.8M', '5,000+', 'Free', '0', 'Everyone', 'Communication', '15-Jul-16', '1.4.4', '4.1 and up']\n",
      "['Mircules DX Cluster Lite', 'COMMUNICATION', '4.5', '51', '21M', '5,000+', 'Free', '0', 'Everyone', 'Communication', '10-May-16', '3', '4.1 and up']\n",
      "['iCluster - The DX-Cluster database', 'COMMUNICATION', 'NaN', '0', '17M', '10+', 'Paid', '0.99 ', 'Everyone', 'Communication', '26-Jul-18', '1.7', '6.0 and up']\n",
      "['3G DZ Configuration', 'COMMUNICATION', '4.3', '488', '2.5M', '50,000+', 'Free', '0', 'Everyone', 'Communication', '19-Nov-15', '6.2.3', '3.0 and up']\n",
      "['chat dz', 'COMMUNICATION', '5', '8', '29M', '100+', 'Free', '0', 'Teen', 'Communication', '14-Mar-18', '1', '4.1 and up']\n",
      "['love sms good morning', 'COMMUNICATION', '4.2', '10', '3.1M', '5,000+', 'Free', '0', 'Everyone', 'Communication', '28-Apr-16', '1', '2.3 and up']\n",
      "['Goodbox - Mega App', 'COMMUNICATION', '4.3', '3429', 'Varies with device', '100,000+', 'Free', '0', 'Everyone', 'Communication', '8-Mar-18', '1.10.279.2', '4.2 and up']\n",
      "['Call Blocker - Blacklist, SMS Blocker', 'COMMUNICATION', '4.2', '30350', '3.7M', '1,000,000+', 'Free', '0', 'Everyone', 'Communication', '16-Jan-18', '10.0.0', '4.1 and up']\n",
      "['[EF]ShoutBox', 'COMMUNICATION', 'NaN', '3', '2.5M', '100+', 'Free', '0', 'Teen', 'Communication', '7-Aug-18', 'Build 54', '4.0.3 and up']\n",
      "['Eg Call', 'COMMUNICATION', '4.2', '91', '6.0M', '10,000+', 'Free', '0', 'Everyone', 'Communication', '26-Feb-17', '3.8.6', '2.2 and up']\n",
      "['ei', 'COMMUNICATION', 'NaN', '2', '4.5M', '10+', 'Free', '0', 'Teen', 'Communication', '16-Jul-18', '0.0.10', '4.4 and up']\n",
      "['EJ messenger', 'COMMUNICATION', '5', '1', '25M', '10+', 'Free', '0', 'Teen', 'Communication', '18-Oct-17', '1', '4.0 and up']\n",
      "['WiFi Tether Router', 'COMMUNICATION', '4.2', '5599', '1.3M', '100,000+', 'Paid', '2.90 ', 'Everyone', 'Communication', '2-Jul-18', '6.2.7', '1.6 and up']\n",
      "['Ek IRA', 'COMMUNICATION', 'NaN', '0', '5.7M', '10+', 'Free', '0', 'Everyone', 'Communication', '27-Jul-18', '0.3.1', '4.1 and up']\n",
      "['Orfox: Tor Browser for Android', 'COMMUNICATION', '4.2', '44233', '31M', '10,000,000+', 'Free', '0', 'Everyone', 'Communication', '2-Jul-18', 'Fennec-52.9.0esr/TorBrowser-7.5-1/Orfox-1.5.4-RC-1', '4.0.3 and up']\n",
      "['EO Mumbai', 'COMMUNICATION', 'NaN', '0', '11M', '10+', 'Free', '0', 'Everyone', 'Communication', '21-Feb-18', '1.02', '4.1 and up']\n",
      "['EP RSS Reader', 'COMMUNICATION', '3.8', '4', '892k', '100+', 'Free', '0', 'Everyone', 'Communication', '16-Jul-18', '0.99', '4.0.3 and up']\n",
      "['Voxer Walkie Talkie Messenger', 'COMMUNICATION', '4.3', '230564', 'Varies with device', '10,000,000+', 'Free', '0', 'Everyone', 'Communication', '31-Jul-18', 'Varies with device', 'Varies with device']\n",
      "['ES-1', 'COMMUNICATION', 'NaN', '6', '2.7M', '500+', 'Free', '0', 'Everyone', 'Communication', '5-Jul-16', '1', '1.6 and up']\n",
      "['Hangouts Dialer - Call Phones', 'COMMUNICATION', '4', '122512', '79k', '10,000,000+', 'Free', '0', 'Everyone', 'Communication', '2-Sep-15', '0.1.100944346', '4.0.3 and up']\n",
      "['EU Council', 'COMMUNICATION', 'NaN', '7', '19M', '1,000+', 'Free', '0', 'Everyone', 'Communication', '4-Jul-18', '1.3.0', '4.4 and up']\n",
      "['Council Voting Calculator', 'COMMUNICATION', '3.9', '33', '3.4M', '5,000+', 'Free', '0', 'Everyone', 'Communication', '6-Jan-17', '2.3.0', '4.1 and up']\n",
      "['Have your say on Europe', 'COMMUNICATION', '3.8', '19', '21M', '500+', 'Free', '0', 'Everyone', 'Communication', '19-Apr-18', '1.1.0', '4.1 and up']\n",
      "['Programi podrške EU', 'COMMUNICATION', 'NaN', '0', '5.4M', '100+', 'Free', '0', 'Everyone', 'Communication', '15-Jan-18', '1.0.3', '4.1 and up']\n",
      "['Inbox.eu', 'COMMUNICATION', '3.7', '98', '9.7M', '10,000+', 'Free', '0', 'Everyone', 'Communication', '11-Jul-18', '6.4.7', '4.3 and up']\n",
      "['Web Browser for Android', 'COMMUNICATION', '4.1', '55110', '4.3M', '1,000,000+', 'Free', '0', 'Everyone', 'Communication', '20-Jun-18', '2.2', '4.0 and up']\n",
      "['Remote EX for NISSAN', 'COMMUNICATION', '2.3', '223', '1.0M', '5,000+', 'Paid', '1.49 ', 'Everyone', 'Communication', '26-Jul-14', '1.3', '3.0 and up']\n",
      "['ExDialer PRO Key', 'COMMUNICATION', '4.5', '5474', '17k', '100,000+', 'Paid', '3.99 ', 'Everyone', 'Communication', '15-Jan-14', '81', '2.1 and up']\n",
      "['Everbridge', 'COMMUNICATION', '3.1', '497', '36M', '100,000+', 'Free', '0', 'Everyone', 'Communication', '17-Jul-18', '8.6.2', '4.4 and up']\n",
      "['Best Auto Call Recorder Free', 'COMMUNICATION', '3.7', '7', '4.3M', '500+', 'Free', '0', 'Everyone', 'Communication', '2-Oct-17', '2.1', '4.1 and up']\n",
      "['EZ Wifi Notification', 'COMMUNICATION', '4.3', '260', '193k', '10,000+', 'Free', '0', 'Everyone', 'Communication', '11-Aug-14', '1.8', '2.2 and up']\n",
      "['Test Server SMS FA', 'COMMUNICATION', 'NaN', '0', '1.8M', '5+', 'Free', '0', 'Everyone', 'Communication', '27-Jul-18', '1', '4.0.3 and up']\n",
      "['Lite for Facebook Messenger', 'COMMUNICATION', '4.3', '76498', '4.3M', '1,000,000+', 'Free', '0', 'Teen', 'Communication', '20-Jun-18', '6.3.2', 'Varies with device']\n",
      "['FC Browser - Focus Privacy Browser', 'COMMUNICATION', '4.1', '26', '4.6M', '1,000+', 'Free', '0', 'Everyone', 'Communication', '24-Nov-17', '1', '5.0 and up']\n",
      "['EHiN-FH conferenceapp', 'COMMUNICATION', 'NaN', '5', '26M', '100+', 'Free', '0', 'Everyone', 'Communication', '15-Nov-16', '1.17', '4.1 and up']\n",
      "['Carpooling FH Hagenberg', 'COMMUNICATION', 'NaN', '0', 'Varies with device', '100+', 'Free', '0', 'Everyone', 'Communication', '18-May-17', 'Varies with device', 'Varies with device']\n",
      "['Wi-Fi Auto-connect', 'COMMUNICATION', '3.8', '15036', '253k', '1,000,000+', 'Free', '0', 'Everyone', 'Communication', '1-Aug-15', '1.2.0', '1.6 and up']\n",
      "['Smart Wi-Fi Hotspot PRO', 'COMMUNICATION', '3.7', '197', '957k', '10,000+', 'Paid', '2.99 ', 'Everyone', 'Communication', '10-Feb-16', '1', '2.2 and up']\n",
      "['Talkie - Wi-Fi Calling, Chats, File Sharing', 'COMMUNICATION', '4.2', '4838', 'Varies with device', '500,000+', 'Free', '0', 'Everyone', 'Communication', '6-Jan-18', 'Varies with device', 'Varies with device']\n",
      "['Portable Wi-Fi hotspot Premium', 'COMMUNICATION', '3.7', '481', '420k', '10,000+', 'Paid', '0.99 ', 'Everyone', 'Communication', '16-Dec-15', '1.4.0.2', '2.3 and up']\n",
      "['WeFi - Free Fast WiFi Connect & Find Wi-Fi Map', 'COMMUNICATION', '4', '13469', '5.1M', '1,000,000+', 'Free', '0', 'Everyone', 'Communication', '5-Jun-18', '4.7.0.2200000', '4.0 and up']\n",
      "['Talkie Pro - Wi-Fi Calling, Chats, File Sharing', 'COMMUNICATION', '4.5', '201', 'Varies with device', '1,000+', 'Paid', '2.99 ', 'Everyone', 'Communication', '6-Jan-18', 'Varies with device', 'Varies with device']\n",
      "['Sat-Fi', 'COMMUNICATION', '3.6', '97', 'Varies with device', '5,000+', 'Free', '0', 'Everyone', 'Communication', '31-Aug-17', 'Varies with device', 'Varies with device']\n",
      "['Portable Wi-Fi hotspot Free', 'COMMUNICATION', '4', '1711', '2.1M', '100,000+', 'Free', '0', 'Everyone', 'Communication', '11-Jan-18', '1.2.5.4-11', '2.3 and up']\n",
      "['TownWiFi | Wi-Fi Everywhere', 'COMMUNICATION', '3.9', '2372', '58M', '500,000+', 'Free', '0', 'Everyone', 'Communication', '2-Aug-18', '4.2.1', '4.2 and up']\n",
      "['Jazz Wi-Fi', 'COMMUNICATION', '3.4', '49', '4.0M', '10,000+', 'Free', '0', 'Everyone', 'Communication', '10-Feb-17', '0.1', '2.3 and up']\n",
      "['Sat-Fi Voice', 'COMMUNICATION', '3.4', '37', '14M', '1,000+', 'Free', '0', 'Everyone', 'Communication', '21-Nov-14', '2.2.1.5', '2.2 and up']\n",
      "['Free Wi-fi HotspoT', 'COMMUNICATION', '4.1', '382', '2.3M', '50,000+', 'Free', '0', 'Everyone', 'Communication', '20-Jul-18', '2.5', '4.0 and up']\n",
      "['FN Web Radio', 'COMMUNICATION', 'NaN', '0', '1.6M', '10+', 'Free', '0', 'Everyone', 'Communication', '18-May-18', '1.1', '2.3 and up']\n",
      "['FNH Payment Info', 'COMMUNICATION', 'NaN', '0', '2.1M', '10+', 'Free', '0', 'Everyone', 'Communication', '17-Mar-18', '1.3', '4.0.3 and up']\n",
      "['MARKET FO', 'COMMUNICATION', 'NaN', '0', '15M', '100+', 'Free', '0', 'Everyone', 'Communication', '30-Nov-17', '1', '4.1 and up']\n",
      "['FO OP St-Nazaire', 'COMMUNICATION', 'NaN', '1', '17M', '100+', 'Free', '0', 'Everyone', 'Communication', '19-Dec-17', '1', '4.1 and up']\n",
      "['FO SODEXO', 'COMMUNICATION', 'NaN', '0', '16M', '100+', 'Free', '0', 'Everyone', 'Communication', '13-Mar-18', '1', '4.1 and up']\n",
      "['FO RCBT', 'COMMUNICATION', 'NaN', '5', '15M', '100+', 'Free', '0', 'Everyone', 'Communication', '15-Nov-17', '1', '4.1 and up']\n",
      "['FO Interim', 'COMMUNICATION', 'NaN', '1', '11M', '100+', 'Free', '0', 'Everyone', 'Communication', '14-Mar-17', '1', '4.1 and up']\n",
      "['FO PSA Sept-Fons', 'COMMUNICATION', 'NaN', '2', '15M', '100+', 'Free', '0', 'Everyone', 'Communication', '22-Mar-18', '1', '4.1 and up']\n",
      "['FO AIRBUS TLSE', 'COMMUNICATION', 'NaN', '4', '16M', '1,000+', 'Free', '0', 'Everyone', 'Communication', '25-Jan-18', '1.1', '4.1 and up']\n",
      "['FO STELIA Méaulte', 'COMMUNICATION', 'NaN', '2', '18M', '100+', 'Free', '0', 'Everyone', 'Communication', '19-Dec-17', '1.1', '4.1 and up']\n",
      "['FO AIRBUS Nantes', 'COMMUNICATION', 'NaN', '0', '17M', '100+', 'Free', '0', 'Everyone', 'Communication', '14-Dec-17', '1', '4.1 and up']\n",
      "['Firefox Focus: The privacy browser', 'COMMUNICATION', '4.4', '36981', '4.0M', '1,000,000+', 'Free', '0', 'Everyone', 'Communication', '6-Jul-18', '5.2', '5.0 and up']\n",
      "['FP Connect', 'COMMUNICATION', 'NaN', '0', '22M', '100+', 'Free', '0', 'Teen', 'Communication', '15-Dec-17', '3.15.1', '4.1 and up']\n",
      "['FreedomPop Messaging Phone/SIM', 'COMMUNICATION', '3.6', '9894', '39M', '500,000+', 'Free', '0', 'Everyone', 'Communication', '26-Jul-18', '23.01.1265.0712', '4.1 and up']\n",
      "['FP Live', 'COMMUNICATION', 'NaN', '0', '3.3M', '10+', 'Free', '0', 'Teen', 'Communication', '3-Nov-17', '1.2.4', '4.2 and up']\n",
      "['HipChat - beta version', 'COMMUNICATION', '4.1', '1035', '20M', '50,000+', 'Free', '0', 'Everyone', 'Communication', '7-Aug-18', '3.20.001', '4.1 and up']\n"
     ]
    }
   ],
   "source": [
    "for app in android_english:\n",
    "    name=app[9]\n",
    "    if name == 'Communication':\n",
    "        print(app)"
   ]
  },
  {
   "cell_type": "code",
   "execution_count": 144,
   "metadata": {},
   "outputs": [
    {
     "ename": "ValueError",
     "evalue": "could not convert string to float: 'Social Networking'",
     "output_type": "error",
     "traceback": [
      "\u001b[0;31m---------------------------------------------------------------------------\u001b[0m",
      "\u001b[0;31mValueError\u001b[0m                                Traceback (most recent call last)",
      "\u001b[0;32m<ipython-input-144-a39fc3feb706>\u001b[0m in \u001b[0;36m<module>\u001b[0;34m\u001b[0m\n\u001b[1;32m      1\u001b[0m \u001b[0;32mfor\u001b[0m \u001b[0mapp\u001b[0m \u001b[0;32min\u001b[0m \u001b[0mios_english\u001b[0m\u001b[0;34m:\u001b[0m\u001b[0;34m\u001b[0m\u001b[0;34m\u001b[0m\u001b[0m\n\u001b[0;32m----> 2\u001b[0;31m     \u001b[0mname\u001b[0m\u001b[0;34m=\u001b[0m\u001b[0mfloat\u001b[0m\u001b[0;34m(\u001b[0m\u001b[0mapp\u001b[0m\u001b[0;34m[\u001b[0m\u001b[0;36m11\u001b[0m\u001b[0;34m]\u001b[0m\u001b[0;34m)\u001b[0m\u001b[0;34m\u001b[0m\u001b[0;34m\u001b[0m\u001b[0m\n\u001b[0m\u001b[1;32m      3\u001b[0m     \u001b[0;32mif\u001b[0m \u001b[0mname\u001b[0m \u001b[0;34m==\u001b[0m \u001b[0;34m\"Social Networking\"\u001b[0m\u001b[0;34m:\u001b[0m\u001b[0;34m\u001b[0m\u001b[0;34m\u001b[0m\u001b[0m\n\u001b[1;32m      4\u001b[0m         \u001b[0mprint\u001b[0m\u001b[0;34m(\u001b[0m\u001b[0mapp\u001b[0m\u001b[0;34m)\u001b[0m\u001b[0;34m\u001b[0m\u001b[0;34m\u001b[0m\u001b[0m\n",
      "\u001b[0;31mValueError\u001b[0m: could not convert string to float: 'Social Networking'"
     ]
    }
   ],
   "source": [
    "for app in ios_english:\n",
    "    name=float(app[11])\n",
    "    if name == \"Social Networking\":\n",
    "        print(app)    "
   ]
  },
  {
   "cell_type": "code",
   "execution_count": null,
   "metadata": {},
   "outputs": [],
   "source": []
  }
 ],
 "metadata": {
  "kernelspec": {
   "display_name": "Python 3",
   "language": "python",
   "name": "python3"
  },
  "language_info": {
   "codemirror_mode": {
    "name": "ipython",
    "version": 3
   },
   "file_extension": ".py",
   "mimetype": "text/x-python",
   "name": "python",
   "nbconvert_exporter": "python",
   "pygments_lexer": "ipython3",
   "version": "3.7.3"
  }
 },
 "nbformat": 4,
 "nbformat_minor": 2
}
